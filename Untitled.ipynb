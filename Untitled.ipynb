{
 "cells": [
  {
   "cell_type": "markdown",
   "metadata": {},
   "source": [
    "# Udacity Project: Commuticate Data Findings  <br>  \n",
    "  \n",
    "## PISA 2012  <br>  \n",
    "\n",
    "Written by Wooyoul Na"
   ]
  },
  {
   "cell_type": "code",
   "execution_count": 1,
   "metadata": {},
   "outputs": [],
   "source": [
    "import numpy as np\n",
    "import pandas as pd\n",
    "import matplotlib.pyplot as plt\n",
    "import seaborn as sb\n",
    "%matplotlib inline"
   ]
  },
  {
   "cell_type": "code",
   "execution_count": 2,
   "metadata": {},
   "outputs": [
    {
     "data": {
      "text/html": [
       "<div>\n",
       "<style scoped>\n",
       "    .dataframe tbody tr th:only-of-type {\n",
       "        vertical-align: middle;\n",
       "    }\n",
       "\n",
       "    .dataframe tbody tr th {\n",
       "        vertical-align: top;\n",
       "    }\n",
       "\n",
       "    .dataframe thead th {\n",
       "        text-align: right;\n",
       "    }\n",
       "</style>\n",
       "<table border=\"1\" class=\"dataframe\">\n",
       "  <thead>\n",
       "    <tr style=\"text-align: right;\">\n",
       "      <th></th>\n",
       "      <th>Unnamed: 0</th>\n",
       "      <th>x</th>\n",
       "    </tr>\n",
       "  </thead>\n",
       "  <tbody>\n",
       "    <tr>\n",
       "      <th>0</th>\n",
       "      <td>CNT</td>\n",
       "      <td>Country code 3-character</td>\n",
       "    </tr>\n",
       "    <tr>\n",
       "      <th>1</th>\n",
       "      <td>SUBNATIO</td>\n",
       "      <td>Adjudicated sub-region code 7-digit code (3-di...</td>\n",
       "    </tr>\n",
       "    <tr>\n",
       "      <th>2</th>\n",
       "      <td>STRATUM</td>\n",
       "      <td>Stratum ID 7-character (cnt + region ID + orig...</td>\n",
       "    </tr>\n",
       "    <tr>\n",
       "      <th>3</th>\n",
       "      <td>OECD</td>\n",
       "      <td>OECD country</td>\n",
       "    </tr>\n",
       "    <tr>\n",
       "      <th>4</th>\n",
       "      <td>NC</td>\n",
       "      <td>National Centre 6-digit Code</td>\n",
       "    </tr>\n",
       "    <tr>\n",
       "      <th>5</th>\n",
       "      <td>SCHOOLID</td>\n",
       "      <td>School ID 7-digit (region ID + stratum ID + 3-...</td>\n",
       "    </tr>\n",
       "    <tr>\n",
       "      <th>6</th>\n",
       "      <td>STIDSTD</td>\n",
       "      <td>Student ID</td>\n",
       "    </tr>\n",
       "    <tr>\n",
       "      <th>7</th>\n",
       "      <td>ST01Q01</td>\n",
       "      <td>International Grade</td>\n",
       "    </tr>\n",
       "    <tr>\n",
       "      <th>8</th>\n",
       "      <td>ST02Q01</td>\n",
       "      <td>National Study Programme</td>\n",
       "    </tr>\n",
       "    <tr>\n",
       "      <th>9</th>\n",
       "      <td>ST03Q01</td>\n",
       "      <td>Birth - Month</td>\n",
       "    </tr>\n",
       "    <tr>\n",
       "      <th>10</th>\n",
       "      <td>ST03Q02</td>\n",
       "      <td>Birth -Year</td>\n",
       "    </tr>\n",
       "    <tr>\n",
       "      <th>11</th>\n",
       "      <td>ST04Q01</td>\n",
       "      <td>Gender</td>\n",
       "    </tr>\n",
       "    <tr>\n",
       "      <th>12</th>\n",
       "      <td>ST05Q01</td>\n",
       "      <td>Attend &lt;ISCED 0&gt;</td>\n",
       "    </tr>\n",
       "    <tr>\n",
       "      <th>13</th>\n",
       "      <td>ST06Q01</td>\n",
       "      <td>Age at &lt;ISCED 1&gt;</td>\n",
       "    </tr>\n",
       "    <tr>\n",
       "      <th>14</th>\n",
       "      <td>ST07Q01</td>\n",
       "      <td>Repeat - &lt;ISCED 1&gt;</td>\n",
       "    </tr>\n",
       "    <tr>\n",
       "      <th>15</th>\n",
       "      <td>ST07Q02</td>\n",
       "      <td>Repeat - &lt;ISCED 2&gt;</td>\n",
       "    </tr>\n",
       "    <tr>\n",
       "      <th>16</th>\n",
       "      <td>ST07Q03</td>\n",
       "      <td>Repeat - &lt;ISCED 3&gt;</td>\n",
       "    </tr>\n",
       "    <tr>\n",
       "      <th>17</th>\n",
       "      <td>ST08Q01</td>\n",
       "      <td>Truancy - Late for School</td>\n",
       "    </tr>\n",
       "    <tr>\n",
       "      <th>18</th>\n",
       "      <td>ST09Q01</td>\n",
       "      <td>Truancy - Skip whole school day</td>\n",
       "    </tr>\n",
       "    <tr>\n",
       "      <th>19</th>\n",
       "      <td>ST115Q01</td>\n",
       "      <td>Truancy - Skip classes within school day</td>\n",
       "    </tr>\n",
       "    <tr>\n",
       "      <th>20</th>\n",
       "      <td>ST11Q01</td>\n",
       "      <td>At Home - Mother</td>\n",
       "    </tr>\n",
       "    <tr>\n",
       "      <th>21</th>\n",
       "      <td>ST11Q02</td>\n",
       "      <td>At Home - Father</td>\n",
       "    </tr>\n",
       "    <tr>\n",
       "      <th>22</th>\n",
       "      <td>ST11Q03</td>\n",
       "      <td>At Home - Brothers</td>\n",
       "    </tr>\n",
       "    <tr>\n",
       "      <th>23</th>\n",
       "      <td>ST11Q04</td>\n",
       "      <td>At Home - Sisters</td>\n",
       "    </tr>\n",
       "    <tr>\n",
       "      <th>24</th>\n",
       "      <td>ST11Q05</td>\n",
       "      <td>At Home - Grandparents</td>\n",
       "    </tr>\n",
       "    <tr>\n",
       "      <th>25</th>\n",
       "      <td>ST11Q06</td>\n",
       "      <td>At Home - Others</td>\n",
       "    </tr>\n",
       "    <tr>\n",
       "      <th>26</th>\n",
       "      <td>ST13Q01</td>\n",
       "      <td>Mother&lt;Highest Schooling&gt;</td>\n",
       "    </tr>\n",
       "    <tr>\n",
       "      <th>27</th>\n",
       "      <td>ST14Q01</td>\n",
       "      <td>Mother Qualifications - &lt;ISCED level 6&gt;</td>\n",
       "    </tr>\n",
       "    <tr>\n",
       "      <th>28</th>\n",
       "      <td>ST14Q02</td>\n",
       "      <td>Mother Qualifications - &lt;ISCED level 5A&gt;</td>\n",
       "    </tr>\n",
       "    <tr>\n",
       "      <th>29</th>\n",
       "      <td>ST14Q03</td>\n",
       "      <td>Mother Qualifications - &lt;ISCED level 5B&gt;</td>\n",
       "    </tr>\n",
       "    <tr>\n",
       "      <th>...</th>\n",
       "      <td>...</td>\n",
       "      <td>...</td>\n",
       "    </tr>\n",
       "    <tr>\n",
       "      <th>605</th>\n",
       "      <td>W_FSTR55</td>\n",
       "      <td>FINAL STUDENT REPLICATE BRR-FAY WEIGHT55</td>\n",
       "    </tr>\n",
       "    <tr>\n",
       "      <th>606</th>\n",
       "      <td>W_FSTR56</td>\n",
       "      <td>FINAL STUDENT REPLICATE BRR-FAY WEIGHT56</td>\n",
       "    </tr>\n",
       "    <tr>\n",
       "      <th>607</th>\n",
       "      <td>W_FSTR57</td>\n",
       "      <td>FINAL STUDENT REPLICATE BRR-FAY WEIGHT57</td>\n",
       "    </tr>\n",
       "    <tr>\n",
       "      <th>608</th>\n",
       "      <td>W_FSTR58</td>\n",
       "      <td>FINAL STUDENT REPLICATE BRR-FAY WEIGHT58</td>\n",
       "    </tr>\n",
       "    <tr>\n",
       "      <th>609</th>\n",
       "      <td>W_FSTR59</td>\n",
       "      <td>FINAL STUDENT REPLICATE BRR-FAY WEIGHT59</td>\n",
       "    </tr>\n",
       "    <tr>\n",
       "      <th>610</th>\n",
       "      <td>W_FSTR60</td>\n",
       "      <td>FINAL STUDENT REPLICATE BRR-FAY WEIGHT60</td>\n",
       "    </tr>\n",
       "    <tr>\n",
       "      <th>611</th>\n",
       "      <td>W_FSTR61</td>\n",
       "      <td>FINAL STUDENT REPLICATE BRR-FAY WEIGHT61</td>\n",
       "    </tr>\n",
       "    <tr>\n",
       "      <th>612</th>\n",
       "      <td>W_FSTR62</td>\n",
       "      <td>FINAL STUDENT REPLICATE BRR-FAY WEIGHT62</td>\n",
       "    </tr>\n",
       "    <tr>\n",
       "      <th>613</th>\n",
       "      <td>W_FSTR63</td>\n",
       "      <td>FINAL STUDENT REPLICATE BRR-FAY WEIGHT63</td>\n",
       "    </tr>\n",
       "    <tr>\n",
       "      <th>614</th>\n",
       "      <td>W_FSTR64</td>\n",
       "      <td>FINAL STUDENT REPLICATE BRR-FAY WEIGHT64</td>\n",
       "    </tr>\n",
       "    <tr>\n",
       "      <th>615</th>\n",
       "      <td>W_FSTR65</td>\n",
       "      <td>FINAL STUDENT REPLICATE BRR-FAY WEIGHT65</td>\n",
       "    </tr>\n",
       "    <tr>\n",
       "      <th>616</th>\n",
       "      <td>W_FSTR66</td>\n",
       "      <td>FINAL STUDENT REPLICATE BRR-FAY WEIGHT66</td>\n",
       "    </tr>\n",
       "    <tr>\n",
       "      <th>617</th>\n",
       "      <td>W_FSTR67</td>\n",
       "      <td>FINAL STUDENT REPLICATE BRR-FAY WEIGHT67</td>\n",
       "    </tr>\n",
       "    <tr>\n",
       "      <th>618</th>\n",
       "      <td>W_FSTR68</td>\n",
       "      <td>FINAL STUDENT REPLICATE BRR-FAY WEIGHT68</td>\n",
       "    </tr>\n",
       "    <tr>\n",
       "      <th>619</th>\n",
       "      <td>W_FSTR69</td>\n",
       "      <td>FINAL STUDENT REPLICATE BRR-FAY WEIGHT69</td>\n",
       "    </tr>\n",
       "    <tr>\n",
       "      <th>620</th>\n",
       "      <td>W_FSTR70</td>\n",
       "      <td>FINAL STUDENT REPLICATE BRR-FAY WEIGHT70</td>\n",
       "    </tr>\n",
       "    <tr>\n",
       "      <th>621</th>\n",
       "      <td>W_FSTR71</td>\n",
       "      <td>FINAL STUDENT REPLICATE BRR-FAY WEIGHT71</td>\n",
       "    </tr>\n",
       "    <tr>\n",
       "      <th>622</th>\n",
       "      <td>W_FSTR72</td>\n",
       "      <td>FINAL STUDENT REPLICATE BRR-FAY WEIGHT72</td>\n",
       "    </tr>\n",
       "    <tr>\n",
       "      <th>623</th>\n",
       "      <td>W_FSTR73</td>\n",
       "      <td>FINAL STUDENT REPLICATE BRR-FAY WEIGHT73</td>\n",
       "    </tr>\n",
       "    <tr>\n",
       "      <th>624</th>\n",
       "      <td>W_FSTR74</td>\n",
       "      <td>FINAL STUDENT REPLICATE BRR-FAY WEIGHT74</td>\n",
       "    </tr>\n",
       "    <tr>\n",
       "      <th>625</th>\n",
       "      <td>W_FSTR75</td>\n",
       "      <td>FINAL STUDENT REPLICATE BRR-FAY WEIGHT75</td>\n",
       "    </tr>\n",
       "    <tr>\n",
       "      <th>626</th>\n",
       "      <td>W_FSTR76</td>\n",
       "      <td>FINAL STUDENT REPLICATE BRR-FAY WEIGHT76</td>\n",
       "    </tr>\n",
       "    <tr>\n",
       "      <th>627</th>\n",
       "      <td>W_FSTR77</td>\n",
       "      <td>FINAL STUDENT REPLICATE BRR-FAY WEIGHT77</td>\n",
       "    </tr>\n",
       "    <tr>\n",
       "      <th>628</th>\n",
       "      <td>W_FSTR78</td>\n",
       "      <td>FINAL STUDENT REPLICATE BRR-FAY WEIGHT78</td>\n",
       "    </tr>\n",
       "    <tr>\n",
       "      <th>629</th>\n",
       "      <td>W_FSTR79</td>\n",
       "      <td>FINAL STUDENT REPLICATE BRR-FAY WEIGHT79</td>\n",
       "    </tr>\n",
       "    <tr>\n",
       "      <th>630</th>\n",
       "      <td>W_FSTR80</td>\n",
       "      <td>FINAL STUDENT REPLICATE BRR-FAY WEIGHT80</td>\n",
       "    </tr>\n",
       "    <tr>\n",
       "      <th>631</th>\n",
       "      <td>WVARSTRR</td>\n",
       "      <td>RANDOMIZED FINAL VARIANCE STRATUM (1-80)</td>\n",
       "    </tr>\n",
       "    <tr>\n",
       "      <th>632</th>\n",
       "      <td>VAR_UNIT</td>\n",
       "      <td>RANDOMLY ASSIGNED VARIANCE UNIT</td>\n",
       "    </tr>\n",
       "    <tr>\n",
       "      <th>633</th>\n",
       "      <td>SENWGT_STU</td>\n",
       "      <td>Senate weight - sum of weight within the count...</td>\n",
       "    </tr>\n",
       "    <tr>\n",
       "      <th>634</th>\n",
       "      <td>VER_STU</td>\n",
       "      <td>Date of the database creation</td>\n",
       "    </tr>\n",
       "  </tbody>\n",
       "</table>\n",
       "<p>635 rows × 2 columns</p>\n",
       "</div>"
      ],
      "text/plain": [
       "     Unnamed: 0                                                  x\n",
       "0           CNT                           Country code 3-character\n",
       "1      SUBNATIO  Adjudicated sub-region code 7-digit code (3-di...\n",
       "2       STRATUM  Stratum ID 7-character (cnt + region ID + orig...\n",
       "3          OECD                                       OECD country\n",
       "4            NC                       National Centre 6-digit Code\n",
       "5      SCHOOLID  School ID 7-digit (region ID + stratum ID + 3-...\n",
       "6       STIDSTD                                         Student ID\n",
       "7       ST01Q01                                International Grade\n",
       "8       ST02Q01                           National Study Programme\n",
       "9       ST03Q01                                      Birth - Month\n",
       "10      ST03Q02                                        Birth -Year\n",
       "11      ST04Q01                                             Gender\n",
       "12      ST05Q01                                   Attend <ISCED 0>\n",
       "13      ST06Q01                                   Age at <ISCED 1>\n",
       "14      ST07Q01                                 Repeat - <ISCED 1>\n",
       "15      ST07Q02                                 Repeat - <ISCED 2>\n",
       "16      ST07Q03                                 Repeat - <ISCED 3>\n",
       "17      ST08Q01                          Truancy - Late for School\n",
       "18      ST09Q01                    Truancy - Skip whole school day\n",
       "19     ST115Q01           Truancy - Skip classes within school day\n",
       "20      ST11Q01                                   At Home - Mother\n",
       "21      ST11Q02                                   At Home - Father\n",
       "22      ST11Q03                                 At Home - Brothers\n",
       "23      ST11Q04                                  At Home - Sisters\n",
       "24      ST11Q05                             At Home - Grandparents\n",
       "25      ST11Q06                                   At Home - Others\n",
       "26      ST13Q01                          Mother<Highest Schooling>\n",
       "27      ST14Q01            Mother Qualifications - <ISCED level 6>\n",
       "28      ST14Q02           Mother Qualifications - <ISCED level 5A>\n",
       "29      ST14Q03           Mother Qualifications - <ISCED level 5B>\n",
       "..          ...                                                ...\n",
       "605    W_FSTR55           FINAL STUDENT REPLICATE BRR-FAY WEIGHT55\n",
       "606    W_FSTR56           FINAL STUDENT REPLICATE BRR-FAY WEIGHT56\n",
       "607    W_FSTR57           FINAL STUDENT REPLICATE BRR-FAY WEIGHT57\n",
       "608    W_FSTR58           FINAL STUDENT REPLICATE BRR-FAY WEIGHT58\n",
       "609    W_FSTR59           FINAL STUDENT REPLICATE BRR-FAY WEIGHT59\n",
       "610    W_FSTR60           FINAL STUDENT REPLICATE BRR-FAY WEIGHT60\n",
       "611    W_FSTR61           FINAL STUDENT REPLICATE BRR-FAY WEIGHT61\n",
       "612    W_FSTR62           FINAL STUDENT REPLICATE BRR-FAY WEIGHT62\n",
       "613    W_FSTR63           FINAL STUDENT REPLICATE BRR-FAY WEIGHT63\n",
       "614    W_FSTR64           FINAL STUDENT REPLICATE BRR-FAY WEIGHT64\n",
       "615    W_FSTR65           FINAL STUDENT REPLICATE BRR-FAY WEIGHT65\n",
       "616    W_FSTR66           FINAL STUDENT REPLICATE BRR-FAY WEIGHT66\n",
       "617    W_FSTR67           FINAL STUDENT REPLICATE BRR-FAY WEIGHT67\n",
       "618    W_FSTR68           FINAL STUDENT REPLICATE BRR-FAY WEIGHT68\n",
       "619    W_FSTR69           FINAL STUDENT REPLICATE BRR-FAY WEIGHT69\n",
       "620    W_FSTR70           FINAL STUDENT REPLICATE BRR-FAY WEIGHT70\n",
       "621    W_FSTR71           FINAL STUDENT REPLICATE BRR-FAY WEIGHT71\n",
       "622    W_FSTR72           FINAL STUDENT REPLICATE BRR-FAY WEIGHT72\n",
       "623    W_FSTR73           FINAL STUDENT REPLICATE BRR-FAY WEIGHT73\n",
       "624    W_FSTR74           FINAL STUDENT REPLICATE BRR-FAY WEIGHT74\n",
       "625    W_FSTR75           FINAL STUDENT REPLICATE BRR-FAY WEIGHT75\n",
       "626    W_FSTR76           FINAL STUDENT REPLICATE BRR-FAY WEIGHT76\n",
       "627    W_FSTR77           FINAL STUDENT REPLICATE BRR-FAY WEIGHT77\n",
       "628    W_FSTR78           FINAL STUDENT REPLICATE BRR-FAY WEIGHT78\n",
       "629    W_FSTR79           FINAL STUDENT REPLICATE BRR-FAY WEIGHT79\n",
       "630    W_FSTR80           FINAL STUDENT REPLICATE BRR-FAY WEIGHT80\n",
       "631    WVARSTRR           RANDOMIZED FINAL VARIANCE STRATUM (1-80)\n",
       "632    VAR_UNIT                    RANDOMLY ASSIGNED VARIANCE UNIT\n",
       "633  SENWGT_STU  Senate weight - sum of weight within the count...\n",
       "634     VER_STU                      Date of the database creation\n",
       "\n",
       "[635 rows x 2 columns]"
      ]
     },
     "execution_count": 2,
     "metadata": {},
     "output_type": "execute_result"
    }
   ],
   "source": [
    "pd.read_csv('pisadict2012.csv',encoding='cp1252')"
   ]
  },
  {
   "cell_type": "markdown",
   "metadata": {},
   "source": [
    "## Data Cleaning"
   ]
  },
  {
   "cell_type": "markdown",
   "metadata": {},
   "source": [
    "### Gather"
   ]
  },
  {
   "cell_type": "code",
   "execution_count": 3,
   "metadata": {},
   "outputs": [
    {
     "name": "stderr",
     "output_type": "stream",
     "text": [
      "C:\\ProgramData\\Anaconda3\\lib\\site-packages\\IPython\\core\\interactiveshell.py:3057: DtypeWarning: Columns (15,16,17,21,22,23,24,25,26,30,31,36,37,45,65,123,155,156,157,158,159,160,161,162,163,164,165,166,167,168,169,170,171,284,285,286,287,288,289,290,291,292,293,294,295,296,297,298,299,300,301,302,303,307,308,309,310,311,312,313,314,315,316,317,318,319,320,321,322,323,324,325,326,327,328,329,330,331,332,333,334,335,336,337,338,339,340,341,342,343,344,345,346,347,348,349,350,351,352,353,354,355,356,357,376,377,378,379,380,381,382,383,384,385,386,387,388,389,390,391,392,393,394,395,396,397,398,399,400,401,402,403,475) have mixed types. Specify dtype option on import or set low_memory=False.\n",
      "  interactivity=interactivity, compiler=compiler, result=result)\n"
     ]
    }
   ],
   "source": [
    "pisa2012 = pd.read_csv('pisa2012.csv',encoding='cp1252')"
   ]
  },
  {
   "cell_type": "markdown",
   "metadata": {},
   "source": [
    "### Assess"
   ]
  },
  {
   "cell_type": "code",
   "execution_count": 4,
   "metadata": {},
   "outputs": [
    {
     "data": {
      "text/html": [
       "<div>\n",
       "<style scoped>\n",
       "    .dataframe tbody tr th:only-of-type {\n",
       "        vertical-align: middle;\n",
       "    }\n",
       "\n",
       "    .dataframe tbody tr th {\n",
       "        vertical-align: top;\n",
       "    }\n",
       "\n",
       "    .dataframe thead th {\n",
       "        text-align: right;\n",
       "    }\n",
       "</style>\n",
       "<table border=\"1\" class=\"dataframe\">\n",
       "  <thead>\n",
       "    <tr style=\"text-align: right;\">\n",
       "      <th></th>\n",
       "      <th>Unnamed: 0</th>\n",
       "      <th>CNT</th>\n",
       "      <th>SUBNATIO</th>\n",
       "      <th>STRATUM</th>\n",
       "      <th>OECD</th>\n",
       "      <th>NC</th>\n",
       "      <th>SCHOOLID</th>\n",
       "      <th>STIDSTD</th>\n",
       "      <th>ST01Q01</th>\n",
       "      <th>ST02Q01</th>\n",
       "      <th>...</th>\n",
       "      <th>W_FSTR75</th>\n",
       "      <th>W_FSTR76</th>\n",
       "      <th>W_FSTR77</th>\n",
       "      <th>W_FSTR78</th>\n",
       "      <th>W_FSTR79</th>\n",
       "      <th>W_FSTR80</th>\n",
       "      <th>WVARSTRR</th>\n",
       "      <th>VAR_UNIT</th>\n",
       "      <th>SENWGT_STU</th>\n",
       "      <th>VER_STU</th>\n",
       "    </tr>\n",
       "  </thead>\n",
       "  <tbody>\n",
       "    <tr>\n",
       "      <th>0</th>\n",
       "      <td>1</td>\n",
       "      <td>Albania</td>\n",
       "      <td>80000</td>\n",
       "      <td>ALB0006</td>\n",
       "      <td>Non-OECD</td>\n",
       "      <td>Albania</td>\n",
       "      <td>1</td>\n",
       "      <td>1</td>\n",
       "      <td>10</td>\n",
       "      <td>1.0</td>\n",
       "      <td>...</td>\n",
       "      <td>13.7954</td>\n",
       "      <td>13.9235</td>\n",
       "      <td>13.1249</td>\n",
       "      <td>13.1249</td>\n",
       "      <td>4.3389</td>\n",
       "      <td>13.0829</td>\n",
       "      <td>19</td>\n",
       "      <td>1</td>\n",
       "      <td>0.2098</td>\n",
       "      <td>22NOV13</td>\n",
       "    </tr>\n",
       "    <tr>\n",
       "      <th>1</th>\n",
       "      <td>2</td>\n",
       "      <td>Albania</td>\n",
       "      <td>80000</td>\n",
       "      <td>ALB0006</td>\n",
       "      <td>Non-OECD</td>\n",
       "      <td>Albania</td>\n",
       "      <td>1</td>\n",
       "      <td>2</td>\n",
       "      <td>10</td>\n",
       "      <td>1.0</td>\n",
       "      <td>...</td>\n",
       "      <td>13.7954</td>\n",
       "      <td>13.9235</td>\n",
       "      <td>13.1249</td>\n",
       "      <td>13.1249</td>\n",
       "      <td>4.3389</td>\n",
       "      <td>13.0829</td>\n",
       "      <td>19</td>\n",
       "      <td>1</td>\n",
       "      <td>0.2098</td>\n",
       "      <td>22NOV13</td>\n",
       "    </tr>\n",
       "    <tr>\n",
       "      <th>2</th>\n",
       "      <td>3</td>\n",
       "      <td>Albania</td>\n",
       "      <td>80000</td>\n",
       "      <td>ALB0006</td>\n",
       "      <td>Non-OECD</td>\n",
       "      <td>Albania</td>\n",
       "      <td>1</td>\n",
       "      <td>3</td>\n",
       "      <td>9</td>\n",
       "      <td>1.0</td>\n",
       "      <td>...</td>\n",
       "      <td>12.7307</td>\n",
       "      <td>12.7307</td>\n",
       "      <td>12.7307</td>\n",
       "      <td>12.7307</td>\n",
       "      <td>4.2436</td>\n",
       "      <td>12.7307</td>\n",
       "      <td>19</td>\n",
       "      <td>1</td>\n",
       "      <td>0.1999</td>\n",
       "      <td>22NOV13</td>\n",
       "    </tr>\n",
       "    <tr>\n",
       "      <th>3</th>\n",
       "      <td>4</td>\n",
       "      <td>Albania</td>\n",
       "      <td>80000</td>\n",
       "      <td>ALB0006</td>\n",
       "      <td>Non-OECD</td>\n",
       "      <td>Albania</td>\n",
       "      <td>1</td>\n",
       "      <td>4</td>\n",
       "      <td>9</td>\n",
       "      <td>1.0</td>\n",
       "      <td>...</td>\n",
       "      <td>12.7307</td>\n",
       "      <td>12.7307</td>\n",
       "      <td>12.7307</td>\n",
       "      <td>12.7307</td>\n",
       "      <td>4.2436</td>\n",
       "      <td>12.7307</td>\n",
       "      <td>19</td>\n",
       "      <td>1</td>\n",
       "      <td>0.1999</td>\n",
       "      <td>22NOV13</td>\n",
       "    </tr>\n",
       "    <tr>\n",
       "      <th>4</th>\n",
       "      <td>5</td>\n",
       "      <td>Albania</td>\n",
       "      <td>80000</td>\n",
       "      <td>ALB0006</td>\n",
       "      <td>Non-OECD</td>\n",
       "      <td>Albania</td>\n",
       "      <td>1</td>\n",
       "      <td>5</td>\n",
       "      <td>9</td>\n",
       "      <td>1.0</td>\n",
       "      <td>...</td>\n",
       "      <td>12.7307</td>\n",
       "      <td>12.7307</td>\n",
       "      <td>12.7307</td>\n",
       "      <td>12.7307</td>\n",
       "      <td>4.2436</td>\n",
       "      <td>12.7307</td>\n",
       "      <td>19</td>\n",
       "      <td>1</td>\n",
       "      <td>0.1999</td>\n",
       "      <td>22NOV13</td>\n",
       "    </tr>\n",
       "  </tbody>\n",
       "</table>\n",
       "<p>5 rows × 636 columns</p>\n",
       "</div>"
      ],
      "text/plain": [
       "   Unnamed: 0      CNT  SUBNATIO  STRATUM      OECD       NC  SCHOOLID  \\\n",
       "0           1  Albania     80000  ALB0006  Non-OECD  Albania         1   \n",
       "1           2  Albania     80000  ALB0006  Non-OECD  Albania         1   \n",
       "2           3  Albania     80000  ALB0006  Non-OECD  Albania         1   \n",
       "3           4  Albania     80000  ALB0006  Non-OECD  Albania         1   \n",
       "4           5  Albania     80000  ALB0006  Non-OECD  Albania         1   \n",
       "\n",
       "   STIDSTD  ST01Q01  ST02Q01  ...  W_FSTR75  W_FSTR76 W_FSTR77 W_FSTR78  \\\n",
       "0        1       10      1.0  ...   13.7954   13.9235  13.1249  13.1249   \n",
       "1        2       10      1.0  ...   13.7954   13.9235  13.1249  13.1249   \n",
       "2        3        9      1.0  ...   12.7307   12.7307  12.7307  12.7307   \n",
       "3        4        9      1.0  ...   12.7307   12.7307  12.7307  12.7307   \n",
       "4        5        9      1.0  ...   12.7307   12.7307  12.7307  12.7307   \n",
       "\n",
       "   W_FSTR79 W_FSTR80 WVARSTRR VAR_UNIT SENWGT_STU  VER_STU  \n",
       "0    4.3389  13.0829       19        1     0.2098  22NOV13  \n",
       "1    4.3389  13.0829       19        1     0.2098  22NOV13  \n",
       "2    4.2436  12.7307       19        1     0.1999  22NOV13  \n",
       "3    4.2436  12.7307       19        1     0.1999  22NOV13  \n",
       "4    4.2436  12.7307       19        1     0.1999  22NOV13  \n",
       "\n",
       "[5 rows x 636 columns]"
      ]
     },
     "execution_count": 4,
     "metadata": {},
     "output_type": "execute_result"
    }
   ],
   "source": [
    "pisa2012.head()"
   ]
  },
  {
   "cell_type": "code",
   "execution_count": 5,
   "metadata": {},
   "outputs": [
    {
     "data": {
      "text/plain": [
       "(485490, 636)"
      ]
     },
     "execution_count": 5,
     "metadata": {},
     "output_type": "execute_result"
    }
   ],
   "source": [
    "pisa2012.shape"
   ]
  },
  {
   "cell_type": "code",
   "execution_count": 6,
   "metadata": {},
   "outputs": [
    {
     "name": "stdout",
     "output_type": "stream",
     "text": [
      "<class 'pandas.core.frame.DataFrame'>\n",
      "RangeIndex: 485490 entries, 0 to 485489\n",
      "Columns: 636 entries, Unnamed: 0 to VER_STU\n",
      "dtypes: float64(250), int64(18), object(368)\n",
      "memory usage: 2.3+ GB\n"
     ]
    }
   ],
   "source": [
    "pisa2012.info()"
   ]
  },
  {
   "cell_type": "code",
   "execution_count": 7,
   "metadata": {},
   "outputs": [
    {
     "data": {
      "text/plain": [
       "False"
      ]
     },
     "execution_count": 7,
     "metadata": {},
     "output_type": "execute_result"
    }
   ],
   "source": [
    "## Check if duplicated cases have been contained\n",
    "pisa2012.duplicated(['NC','SUBNATIO','STRATUM','SCHOOLID','STIDSTD']).any()"
   ]
  },
  {
   "cell_type": "code",
   "execution_count": 8,
   "metadata": {},
   "outputs": [
    {
     "data": {
      "text/plain": [
       "OECD        295416\n",
       "Non-OECD    190074\n",
       "Name: OECD, dtype: int64"
      ]
     },
     "execution_count": 8,
     "metadata": {},
     "output_type": "execute_result"
    }
   ],
   "source": [
    "# counts by OECD and Non-OECD\n",
    "pisa2012.OECD.value_counts()"
   ]
  },
  {
   "cell_type": "code",
   "execution_count": 68,
   "metadata": {},
   "outputs": [
    {
     "data": {
      "text/plain": [
       "array(['Albania', 'United Arab Emirates', 'Argentina', 'Australia',\n",
       "       'Austria', 'Belgium', 'Bulgaria', 'Brazil', 'Canada',\n",
       "       'Switzerland', 'Chile', 'Colombia', 'Costa Rica', 'Czech Republic',\n",
       "       'Germany', 'Denmark', 'Spain', 'Estonia', 'Finland', 'France',\n",
       "       'United Kingdom', 'Greece', 'Hong Kong-China', 'Croatia',\n",
       "       'Hungary', 'Indonesia', 'Ireland', 'Iceland', 'Israel', 'Italy',\n",
       "       'Jordan', 'Japan', 'Kazakhstan', 'Korea', 'Liechtenstein',\n",
       "       'Lithuania', 'Luxembourg', 'Latvia', 'Macao-China', 'Mexico',\n",
       "       'Montenegro', 'Malaysia', 'Netherlands', 'Norway', 'New Zealand',\n",
       "       'Peru', 'Poland', 'Portugal', 'Qatar', 'China-Shanghai',\n",
       "       'Perm(Russian Federation)', 'Florida (USA)', 'Connecticut (USA)',\n",
       "       'Massachusetts (USA)', 'Romania', 'Russian Federation',\n",
       "       'Singapore', 'Serbia', 'Slovak Republic', 'Slovenia', 'Sweden',\n",
       "       'Chinese Taipei', 'Thailand', 'Tunisia', 'Turkey', 'Uruguay',\n",
       "       'United States of America', 'Vietnam'], dtype=object)"
      ]
     },
     "execution_count": 68,
     "metadata": {},
     "output_type": "execute_result"
    }
   ],
   "source": [
    "pisa2012.CNT.unique()"
   ]
  },
  {
   "cell_type": "code",
   "execution_count": 10,
   "metadata": {},
   "outputs": [
    {
     "data": {
      "text/plain": [
       "Mexico                             33806\n",
       "Italy                              31073\n",
       "Spain                              25313\n",
       "Canada                             21544\n",
       "Brazil                             19204\n",
       "Australia                          14481\n",
       "United Arab Emirates               11500\n",
       "Switzerland                        11229\n",
       "Qatar                              10966\n",
       "United States of America           10294\n",
       "United Kingdom (excl.Scotland)      9714\n",
       "Colombia                            9073\n",
       "Finland                             8829\n",
       "Belgium                             8597\n",
       "Denmark                             7481\n",
       "Jordan                              7038\n",
       "Chile                               6856\n",
       "Thailand                            6606\n",
       "Japan                               6351\n",
       "Chinese Taipei                      6046\n",
       "Peru                                6035\n",
       "Slovenia                            5911\n",
       "Argentina                           5908\n",
       "Kazakhstan                          5808\n",
       "Portugal                            5722\n",
       "Indonesia                           5622\n",
       "Singapore                           5546\n",
       "Macao-China                         5335\n",
       "Czech Republic                      5327\n",
       "Uruguay                             5315\n",
       "                                   ...  \n",
       "Romania                             5074\n",
       "Israel                              5055\n",
       "Republic of Korea                   5033\n",
       "Ireland                             5016\n",
       "Croatia                             5008\n",
       "Germany                             5001\n",
       "Viet Nam                            4959\n",
       "Turkey                              4848\n",
       "Hungary                             4810\n",
       "Estonia                             4779\n",
       "Austria                             4755\n",
       "Montenegro                          4744\n",
       "Albania                             4743\n",
       "Sweden                              4736\n",
       "Norway                              4686\n",
       "Serbia                              4684\n",
       "Slovak Republic                     4678\n",
       "Hong Kong-China                     4670\n",
       "Lithuania                           4618\n",
       "France                              4613\n",
       "Poland                              4607\n",
       "Costa Rica                          4602\n",
       "Netherlands                         4460\n",
       "Tunisia                             4407\n",
       "Latvia                              4306\n",
       "New Zealand                         4291\n",
       "Iceland                             3508\n",
       "United Kingdom (Scotland)           2945\n",
       "Perm (Russian Federation)           1761\n",
       "Liechtenstein                        293\n",
       "Name: NC, Length: 66, dtype: int64"
      ]
     },
     "execution_count": 10,
     "metadata": {},
     "output_type": "execute_result"
    }
   ],
   "source": [
    "pisa2012.CNT.value_counts()"
   ]
  },
  {
   "cell_type": "code",
   "execution_count": 69,
   "metadata": {},
   "outputs": [
    {
     "data": {
      "text/plain": [
       "array(['Australia', 'Austria', 'Belgium', 'Canada', 'Switzerland',\n",
       "       'Chile', 'Czech Republic', 'Germany', 'Denmark', 'Spain',\n",
       "       'Estonia', 'Finland', 'France', 'United Kingdom', 'Greece',\n",
       "       'Hungary', 'Ireland', 'Iceland', 'Israel', 'Italy', 'Japan',\n",
       "       'Korea', 'Luxembourg', 'Mexico', 'Netherlands', 'Norway',\n",
       "       'New Zealand', 'Poland', 'Portugal', 'Slovak Republic', 'Slovenia',\n",
       "       'Sweden', 'Turkey', 'United States of America'], dtype=object)"
      ]
     },
     "execution_count": 69,
     "metadata": {},
     "output_type": "execute_result"
    }
   ],
   "source": [
    "## Names of nations in OECD\n",
    "pisa2012[pisa2012['OECD']=='OECD'].CNT.unique()"
   ]
  },
  {
   "cell_type": "code",
   "execution_count": 12,
   "metadata": {},
   "outputs": [
    {
     "data": {
      "text/plain": [
       "Mexico                             33806\n",
       "Italy                              31073\n",
       "Spain                              25313\n",
       "Canada                             21544\n",
       "Australia                          14481\n",
       "Switzerland                        11229\n",
       "United Kingdom (excl.Scotland)      9714\n",
       "Finland                             8829\n",
       "Belgium                             8597\n",
       "Denmark                             7481\n",
       "Chile                               6856\n",
       "Japan                               6351\n",
       "Slovenia                            5911\n",
       "Portugal                            5722\n",
       "Czech Republic                      5327\n",
       "Luxembourg                          5258\n",
       "Greece                              5125\n",
       "Israel                              5055\n",
       "Republic of Korea                   5033\n",
       "Ireland                             5016\n",
       "Germany                             5001\n",
       "United States of America            4978\n",
       "Turkey                              4848\n",
       "Hungary                             4810\n",
       "Estonia                             4779\n",
       "Austria                             4755\n",
       "Sweden                              4736\n",
       "Norway                              4686\n",
       "Slovak Republic                     4678\n",
       "France                              4613\n",
       "Poland                              4607\n",
       "Netherlands                         4460\n",
       "New Zealand                         4291\n",
       "Iceland                             3508\n",
       "United Kingdom (Scotland)           2945\n",
       "Name: NC, dtype: int64"
      ]
     },
     "execution_count": 12,
     "metadata": {},
     "output_type": "execute_result"
    }
   ],
   "source": [
    "## counts by Nations : OECD\n",
    "pisa2012[pisa2012['OECD']=='OECD'].CNT.value_counts()"
   ]
  },
  {
   "cell_type": "code",
   "execution_count": 13,
   "metadata": {},
   "outputs": [
    {
     "data": {
      "text/plain": [
       "10    262631\n",
       "9     152850\n",
       "11     38397\n",
       "8      23764\n",
       "7       3536\n",
       "12      3436\n",
       "96       873\n",
       "13         3\n",
       "Name: ST01Q01, dtype: int64"
      ]
     },
     "execution_count": 13,
     "metadata": {},
     "output_type": "execute_result"
    }
   ],
   "source": [
    "## International Grade\n",
    "pisa2012['ST01Q01'].value_counts()"
   ]
  },
  {
   "cell_type": "code",
   "execution_count": 14,
   "metadata": {},
   "outputs": [
    {
     "data": {
      "text/plain": [
       "Female    245064\n",
       "Male      240426\n",
       "Name: ST04Q01, dtype: int64"
      ]
     },
     "execution_count": 14,
     "metadata": {},
     "output_type": "execute_result"
    }
   ],
   "source": [
    "## gender\n",
    "pisa2012['ST04Q01'].value_counts()"
   ]
  },
  {
   "cell_type": "code",
   "execution_count": 15,
   "metadata": {},
   "outputs": [
    {
     "data": {
      "text/html": [
       "<div>\n",
       "<style scoped>\n",
       "    .dataframe tbody tr th:only-of-type {\n",
       "        vertical-align: middle;\n",
       "    }\n",
       "\n",
       "    .dataframe tbody tr th {\n",
       "        vertical-align: top;\n",
       "    }\n",
       "\n",
       "    .dataframe thead th {\n",
       "        text-align: right;\n",
       "    }\n",
       "</style>\n",
       "<table border=\"1\" class=\"dataframe\">\n",
       "  <thead>\n",
       "    <tr style=\"text-align: right;\">\n",
       "      <th></th>\n",
       "      <th>ST57Q01</th>\n",
       "      <th>ST57Q02</th>\n",
       "      <th>ST57Q03</th>\n",
       "      <th>ST57Q04</th>\n",
       "      <th>ST57Q05</th>\n",
       "      <th>ST57Q06</th>\n",
       "    </tr>\n",
       "  </thead>\n",
       "  <tbody>\n",
       "    <tr>\n",
       "      <th>count</th>\n",
       "      <td>301367.000000</td>\n",
       "      <td>269808.000000</td>\n",
       "      <td>283813.000000</td>\n",
       "      <td>279657.000000</td>\n",
       "      <td>289502.000000</td>\n",
       "      <td>289428.000000</td>\n",
       "    </tr>\n",
       "    <tr>\n",
       "      <th>mean</th>\n",
       "      <td>5.493770</td>\n",
       "      <td>1.623629</td>\n",
       "      <td>0.954044</td>\n",
       "      <td>0.911821</td>\n",
       "      <td>1.213363</td>\n",
       "      <td>1.583081</td>\n",
       "    </tr>\n",
       "    <tr>\n",
       "      <th>std</th>\n",
       "      <td>5.383815</td>\n",
       "      <td>2.591569</td>\n",
       "      <td>2.162574</td>\n",
       "      <td>2.362377</td>\n",
       "      <td>2.353292</td>\n",
       "      <td>2.760885</td>\n",
       "    </tr>\n",
       "    <tr>\n",
       "      <th>min</th>\n",
       "      <td>0.000000</td>\n",
       "      <td>0.000000</td>\n",
       "      <td>0.000000</td>\n",
       "      <td>0.000000</td>\n",
       "      <td>0.000000</td>\n",
       "      <td>0.000000</td>\n",
       "    </tr>\n",
       "    <tr>\n",
       "      <th>25%</th>\n",
       "      <td>2.000000</td>\n",
       "      <td>0.000000</td>\n",
       "      <td>0.000000</td>\n",
       "      <td>0.000000</td>\n",
       "      <td>0.000000</td>\n",
       "      <td>0.000000</td>\n",
       "    </tr>\n",
       "    <tr>\n",
       "      <th>50%</th>\n",
       "      <td>4.000000</td>\n",
       "      <td>1.000000</td>\n",
       "      <td>0.000000</td>\n",
       "      <td>0.000000</td>\n",
       "      <td>0.000000</td>\n",
       "      <td>1.000000</td>\n",
       "    </tr>\n",
       "    <tr>\n",
       "      <th>75%</th>\n",
       "      <td>7.000000</td>\n",
       "      <td>2.000000</td>\n",
       "      <td>1.000000</td>\n",
       "      <td>1.000000</td>\n",
       "      <td>2.000000</td>\n",
       "      <td>2.000000</td>\n",
       "    </tr>\n",
       "    <tr>\n",
       "      <th>max</th>\n",
       "      <td>30.000000</td>\n",
       "      <td>30.000000</td>\n",
       "      <td>30.000000</td>\n",
       "      <td>30.000000</td>\n",
       "      <td>30.000000</td>\n",
       "      <td>30.000000</td>\n",
       "    </tr>\n",
       "  </tbody>\n",
       "</table>\n",
       "</div>"
      ],
      "text/plain": [
       "             ST57Q01        ST57Q02        ST57Q03        ST57Q04  \\\n",
       "count  301367.000000  269808.000000  283813.000000  279657.000000   \n",
       "mean        5.493770       1.623629       0.954044       0.911821   \n",
       "std         5.383815       2.591569       2.162574       2.362377   \n",
       "min         0.000000       0.000000       0.000000       0.000000   \n",
       "25%         2.000000       0.000000       0.000000       0.000000   \n",
       "50%         4.000000       1.000000       0.000000       0.000000   \n",
       "75%         7.000000       2.000000       1.000000       1.000000   \n",
       "max        30.000000      30.000000      30.000000      30.000000   \n",
       "\n",
       "             ST57Q05        ST57Q06  \n",
       "count  289502.000000  289428.000000  \n",
       "mean        1.213363       1.583081  \n",
       "std         2.353292       2.760885  \n",
       "min         0.000000       0.000000  \n",
       "25%         0.000000       0.000000  \n",
       "50%         0.000000       1.000000  \n",
       "75%         2.000000       2.000000  \n",
       "max        30.000000      30.000000  "
      ]
     },
     "execution_count": 15,
     "metadata": {},
     "output_type": "execute_result"
    }
   ],
   "source": [
    "### out of school study time\n",
    "# ST57Q01: Homework\"\n",
    "# ST57Q02: Guided Homework\"\n",
    "# ST57Q03: Personal Tutor\"\n",
    "# ST57Q04: Commercial Company\"\n",
    "# ST57Q05: With Parent\n",
    "# ST57Q06: Computer\n",
    "pisa2012[['ST57Q01','ST57Q02','ST57Q03','ST57Q04','ST57Q05','ST57Q06']].describe()"
   ]
  },
  {
   "cell_type": "code",
   "execution_count": 16,
   "metadata": {},
   "outputs": [
    {
     "name": "stdout",
     "output_type": "stream",
     "text": [
      "Math Interest(ST29Q01)\n",
      "Disagree             0.389027\n",
      "Agree                0.318473\n",
      "Strongly disagree    0.201443\n",
      "Strongly agree       0.091057\n",
      "Name: ST29Q01, dtype: float64\n",
      "Math Interest(ST29Q03)\n",
      "Disagree             0.376305\n",
      "Agree                0.334064\n",
      "Strongly disagree    0.178269\n",
      "Strongly agree       0.111362\n",
      "Name: ST29Q03, dtype: float64\n",
      "Math Interest(ST29Q04)\n",
      "Disagree             0.371586\n",
      "Agree                0.321881\n",
      "Strongly disagree    0.172932\n",
      "Strongly agree       0.133600\n",
      "Name: ST29Q04, dtype: float64\n",
      "Math Interest(ST29Q06)\n",
      "Agree                0.436206\n",
      "Disagree             0.283591\n",
      "Strongly agree       0.178109\n",
      "Strongly disagree    0.102095\n",
      "Name: ST29Q06, dtype: float64\n"
     ]
    }
   ],
   "source": [
    "interest = ['ST29Q01','ST29Q03','ST29Q04','ST29Q06']\n",
    "for i in interest:\n",
    "    print(\"Math Interest\"+\"(\"+i+\")\"+\"\\n\"+str(pisa2012[i].value_counts(normalize=True)))"
   ]
  },
  {
   "cell_type": "code",
   "execution_count": 17,
   "metadata": {},
   "outputs": [
    {
     "name": "stdout",
     "output_type": "stream",
     "text": [
      "Instrumental motivation(ST29Q02)\n",
      "Agree                0.476995\n",
      "Strongly agree       0.307896\n",
      "Disagree             0.157833\n",
      "Strongly disagree    0.057276\n",
      "Name: ST29Q02, dtype: float64\n",
      "Instrumental motivation(ST29Q05)\n",
      "Agree                0.486351\n",
      "Strongly agree       0.315404\n",
      "Disagree             0.140272\n",
      "Strongly disagree    0.057973\n",
      "Name: ST29Q05, dtype: float64\n",
      "Instrumental motivation(ST29Q07)\n",
      "Agree                0.419376\n",
      "Strongly agree       0.287146\n",
      "Disagree             0.209013\n",
      "Strongly disagree    0.084465\n",
      "Name: ST29Q07, dtype: float64\n",
      "Instrumental motivation(ST29Q08)\n",
      "Agree                0.476941\n",
      "Strongly agree       0.270391\n",
      "Disagree             0.183830\n",
      "Strongly disagree    0.068838\n",
      "Name: ST29Q08, dtype: float64\n"
     ]
    }
   ],
   "source": [
    "motivation = ['ST29Q02','ST29Q05','ST29Q07','ST29Q08']\n",
    "for i in motivation:\n",
    "    print(\"Instrumental motivation\"+\"(\"+i+\")\"+\"\\n\"+str(pisa2012[i].value_counts(normalize=True)))"
   ]
  },
  {
   "cell_type": "code",
   "execution_count": 18,
   "metadata": {},
   "outputs": [
    {
     "name": "stdout",
     "output_type": "stream",
     "text": [
      "Subjective norms(ST35Q01)\n",
      "Agree                0.505221\n",
      "Disagree             0.340733\n",
      "Strongly agree       0.107348\n",
      "Strongly disagree    0.046698\n",
      "Name: ST35Q01, dtype: float64\n",
      "Subjective norms(ST35Q02)\n",
      "Agree                0.445799\n",
      "Disagree             0.395405\n",
      "Strongly agree       0.101356\n",
      "Strongly disagree    0.057441\n",
      "Name: ST35Q02, dtype: float64\n",
      "Subjective norms(ST35Q03)\n",
      "Disagree             0.521223\n",
      "Strongly disagree    0.256538\n",
      "Agree                0.171653\n",
      "Strongly agree       0.050585\n",
      "Name: ST35Q03, dtype: float64\n",
      "Subjective norms(ST35Q04)\n",
      "Agree                0.487667\n",
      "Strongly agree       0.419815\n",
      "Disagree             0.073981\n",
      "Strongly disagree    0.018537\n",
      "Name: ST35Q04, dtype: float64\n",
      "Subjective norms(ST35Q05)\n",
      "Agree                0.460083\n",
      "Strongly agree       0.365617\n",
      "Disagree             0.146988\n",
      "Strongly disagree    0.027312\n",
      "Name: ST35Q05, dtype: float64\n",
      "Subjective norms(ST35Q06)\n",
      "Agree                0.475052\n",
      "Disagree             0.299669\n",
      "Strongly agree       0.157912\n",
      "Strongly disagree    0.067367\n",
      "Name: ST35Q06, dtype: float64\n"
     ]
    }
   ],
   "source": [
    "subnorms=['ST35Q01','ST35Q02','ST35Q03','ST35Q04','ST35Q05','ST35Q06']\n",
    "for i in subnorms:\n",
    "    print(\"Subjective norms\"+\"(\"+i+\")\"+\"\\n\"+str(pisa2012[i].value_counts(normalize=True)))"
   ]
  },
  {
   "cell_type": "code",
   "execution_count": 19,
   "metadata": {},
   "outputs": [
    {
     "name": "stdout",
     "output_type": "stream",
     "text": [
      "Math Self-efficacy(ST37Q01)\n",
      "Confident               0.447089\n",
      "Very confident          0.317336\n",
      "Not very confident      0.197306\n",
      "Not at all confident    0.038269\n",
      "Name: ST37Q01, dtype: float64\n",
      "Math Self-efficacy(ST37Q02)\n",
      "Confident               0.410916\n",
      "Very confident          0.380940\n",
      "Not very confident      0.173296\n",
      "Not at all confident    0.034848\n",
      "Name: ST37Q02, dtype: float64\n",
      "Math Self-efficacy(ST37Q03)\n",
      "Confident               0.384819\n",
      "Very confident          0.299650\n",
      "Not very confident      0.260212\n",
      "Not at all confident    0.055320\n",
      "Name: ST37Q03, dtype: float64\n",
      "Math Self-efficacy(ST37Q04)\n",
      "Confident               0.439729\n",
      "Very confident          0.330972\n",
      "Not very confident      0.189658\n",
      "Not at all confident    0.039641\n",
      "Name: ST37Q04, dtype: float64\n",
      "Math Self-efficacy(ST37Q05)\n",
      "Very confident          0.545874\n",
      "Confident               0.302968\n",
      "Not very confident      0.115084\n",
      "Not at all confident    0.036074\n",
      "Name: ST37Q05, dtype: float64\n",
      "Math Self-efficacy(ST37Q06)\n",
      "Not very confident      0.348819\n",
      "Confident               0.333661\n",
      "Very confident          0.227638\n",
      "Not at all confident    0.089882\n",
      "Name: ST37Q06, dtype: float64\n",
      "Math Self-efficacy(ST37Q07)\n",
      "Very confident          0.402493\n",
      "Confident               0.344703\n",
      "Not very confident      0.191801\n",
      "Not at all confident    0.061002\n",
      "Name: ST37Q07, dtype: float64\n",
      "Math Self-efficacy(ST37Q08)\n",
      "Confident               0.372230\n",
      "Not very confident      0.335696\n",
      "Very confident          0.204847\n",
      "Not at all confident    0.087227\n",
      "Name: ST37Q08, dtype: float64\n"
     ]
    }
   ],
   "source": [
    "efficacy = ['ST37Q01','ST37Q02','ST37Q03','ST37Q04','ST37Q05','ST37Q06','ST37Q07','ST37Q08']\n",
    "for i in efficacy:\n",
    "     print(\"Math Self-efficacy\"+\"(\"+i+\")\"+\"\\n\"+str(pisa2012[i].value_counts(normalize=True)))"
   ]
  },
  {
   "cell_type": "code",
   "execution_count": 20,
   "metadata": {},
   "outputs": [
    {
     "name": "stdout",
     "output_type": "stream",
     "text": [
      "Math Anxiety(ST42Q01)\n",
      "Agree                0.428507\n",
      "Disagree             0.265597\n",
      "Strongly agree       0.218878\n",
      "Strongly disagree    0.087018\n",
      "Name: ST42Q01, dtype: float64\n",
      "Math Anxiety(ST42Q03)\n",
      "Disagree             0.434736\n",
      "Agree                0.258364\n",
      "Strongly disagree    0.193304\n",
      "Strongly agree       0.113596\n",
      "Name: ST42Q03, dtype: float64\n",
      "Math Anxiety(ST42Q05)\n",
      "Disagree             0.450042\n",
      "Agree                0.271288\n",
      "Strongly disagree    0.175741\n",
      "Strongly agree       0.102929\n",
      "Name: ST42Q05, dtype: float64\n",
      "Math Anxiety(ST42Q08)\n",
      "Disagree             0.462209\n",
      "Agree                0.240594\n",
      "Strongly disagree    0.203104\n",
      "Strongly agree       0.094093\n",
      "Name: ST42Q08, dtype: float64\n",
      "Math Anxiety(ST42Q10)\n",
      "Agree                0.376941\n",
      "Strongly agree       0.310967\n",
      "Disagree             0.203012\n",
      "Strongly disagree    0.109080\n",
      "Name: ST42Q10, dtype: float64\n"
     ]
    }
   ],
   "source": [
    "anxiety = ['ST42Q01','ST42Q03','ST42Q05','ST42Q08','ST42Q10']\n",
    "for i in anxiety:\n",
    "    print(\"Math Anxiety\"+\"(\"+i+\")\"+\"\\n\"+str(pisa2012[i].value_counts(normalize=True)))"
   ]
  },
  {
   "cell_type": "code",
   "execution_count": 21,
   "metadata": {},
   "outputs": [
    {
     "name": "stdout",
     "output_type": "stream",
     "text": [
      "Math Self-concept(ST42Q02)\n",
      "Disagree             0.378492\n",
      "Agree                0.292856\n",
      "Strongly disagree    0.164669\n",
      "Strongly agree       0.163983\n",
      "Name: ST42Q02, dtype: float64\n",
      "Math Self-concept(ST42Q04)\n",
      "Agree                0.433868\n",
      "Disagree             0.310469\n",
      "Strongly agree       0.163046\n",
      "Strongly disagree    0.092618\n",
      "Name: ST42Q04, dtype: float64\n",
      "Math Self-concept(ST42Q06)\n",
      "Agree                0.381037\n",
      "Disagree             0.357065\n",
      "Strongly agree       0.147355\n",
      "Strongly disagree    0.114543\n",
      "Name: ST42Q06, dtype: float64\n",
      "Math Self-concept(ST42Q07)\n",
      "Disagree             0.353823\n",
      "Agree                0.249284\n",
      "Strongly disagree    0.238215\n",
      "Strongly agree       0.158678\n",
      "Name: ST42Q07, dtype: float64\n",
      "Math Self-concept(ST42Q09)\n",
      "Disagree             0.419393\n",
      "Agree                0.300811\n",
      "Strongly disagree    0.183052\n",
      "Strongly agree       0.096745\n",
      "Name: ST42Q09, dtype: float64\n"
     ]
    }
   ],
   "source": [
    "concept=['ST42Q02','ST42Q04','ST42Q06','ST42Q07','ST42Q09']\n",
    "for i in concept:\n",
    "    print(\"Math Self-concept\"+\"(\"+i+\")\"+\"\\n\"+str(pisa2012[i].value_counts(normalize=True)))"
   ]
  },
  {
   "cell_type": "code",
   "execution_count": 22,
   "metadata": {},
   "outputs": [
    {
     "data": {
      "text/plain": [
       "count    473648.000000\n",
       "mean         -0.265546\n",
       "std           1.131791\n",
       "min          -5.950000\n",
       "25%          -1.000000\n",
       "50%          -0.190000\n",
       "75%           0.610000\n",
       "max           3.690000\n",
       "Name: ESCS, dtype: float64"
      ]
     },
     "execution_count": 22,
     "metadata": {},
     "output_type": "execute_result"
    }
   ],
   "source": [
    "pisa2012['ESCS'].describe()"
   ]
  },
  {
   "cell_type": "code",
   "execution_count": 23,
   "metadata": {},
   "outputs": [
    {
     "data": {
      "text/html": [
       "<div>\n",
       "<style scoped>\n",
       "    .dataframe tbody tr th:only-of-type {\n",
       "        vertical-align: middle;\n",
       "    }\n",
       "\n",
       "    .dataframe tbody tr th {\n",
       "        vertical-align: top;\n",
       "    }\n",
       "\n",
       "    .dataframe thead th {\n",
       "        text-align: right;\n",
       "    }\n",
       "</style>\n",
       "<table border=\"1\" class=\"dataframe\">\n",
       "  <thead>\n",
       "    <tr style=\"text-align: right;\">\n",
       "      <th></th>\n",
       "      <th>PV1MATH</th>\n",
       "      <th>PV2MATH</th>\n",
       "      <th>PV3MATH</th>\n",
       "      <th>PV4MATH</th>\n",
       "      <th>PV5MATH</th>\n",
       "    </tr>\n",
       "  </thead>\n",
       "  <tbody>\n",
       "    <tr>\n",
       "      <th>count</th>\n",
       "      <td>485490.000000</td>\n",
       "      <td>485490.000000</td>\n",
       "      <td>485490.000000</td>\n",
       "      <td>485490.000000</td>\n",
       "      <td>485490.000000</td>\n",
       "    </tr>\n",
       "    <tr>\n",
       "      <th>mean</th>\n",
       "      <td>469.621653</td>\n",
       "      <td>469.648358</td>\n",
       "      <td>469.648930</td>\n",
       "      <td>469.641832</td>\n",
       "      <td>469.695396</td>\n",
       "    </tr>\n",
       "    <tr>\n",
       "      <th>std</th>\n",
       "      <td>103.265391</td>\n",
       "      <td>103.382077</td>\n",
       "      <td>103.407631</td>\n",
       "      <td>103.392286</td>\n",
       "      <td>103.419170</td>\n",
       "    </tr>\n",
       "    <tr>\n",
       "      <th>min</th>\n",
       "      <td>19.792800</td>\n",
       "      <td>6.473000</td>\n",
       "      <td>42.226200</td>\n",
       "      <td>24.622200</td>\n",
       "      <td>37.085200</td>\n",
       "    </tr>\n",
       "    <tr>\n",
       "      <th>25%</th>\n",
       "      <td>395.318600</td>\n",
       "      <td>395.318600</td>\n",
       "      <td>395.240700</td>\n",
       "      <td>395.396500</td>\n",
       "      <td>395.240700</td>\n",
       "    </tr>\n",
       "    <tr>\n",
       "      <th>50%</th>\n",
       "      <td>466.201900</td>\n",
       "      <td>466.124000</td>\n",
       "      <td>466.201900</td>\n",
       "      <td>466.279800</td>\n",
       "      <td>466.435600</td>\n",
       "    </tr>\n",
       "    <tr>\n",
       "      <th>75%</th>\n",
       "      <td>541.057800</td>\n",
       "      <td>541.447300</td>\n",
       "      <td>541.291500</td>\n",
       "      <td>541.447300</td>\n",
       "      <td>541.447300</td>\n",
       "    </tr>\n",
       "    <tr>\n",
       "      <th>max</th>\n",
       "      <td>962.229300</td>\n",
       "      <td>957.010400</td>\n",
       "      <td>935.745400</td>\n",
       "      <td>943.456900</td>\n",
       "      <td>907.625800</td>\n",
       "    </tr>\n",
       "  </tbody>\n",
       "</table>\n",
       "</div>"
      ],
      "text/plain": [
       "             PV1MATH        PV2MATH        PV3MATH        PV4MATH  \\\n",
       "count  485490.000000  485490.000000  485490.000000  485490.000000   \n",
       "mean      469.621653     469.648358     469.648930     469.641832   \n",
       "std       103.265391     103.382077     103.407631     103.392286   \n",
       "min        19.792800       6.473000      42.226200      24.622200   \n",
       "25%       395.318600     395.318600     395.240700     395.396500   \n",
       "50%       466.201900     466.124000     466.201900     466.279800   \n",
       "75%       541.057800     541.447300     541.291500     541.447300   \n",
       "max       962.229300     957.010400     935.745400     943.456900   \n",
       "\n",
       "             PV5MATH  \n",
       "count  485490.000000  \n",
       "mean      469.695396  \n",
       "std       103.419170  \n",
       "min        37.085200  \n",
       "25%       395.240700  \n",
       "50%       466.435600  \n",
       "75%       541.447300  \n",
       "max       907.625800  "
      ]
     },
     "execution_count": 23,
     "metadata": {},
     "output_type": "execute_result"
    }
   ],
   "source": [
    "plausible_math=['PV1MATH','PV2MATH','PV3MATH','PV4MATH','PV5MATH']\n",
    "pisa2012[plausible_math].describe()"
   ]
  },
  {
   "cell_type": "markdown",
   "metadata": {},
   "source": [
    "#### Assessing summary  <br>  \n",
    "  \n",
    " - filter OECE country\n",
    " - remove unnecessary columns\n",
    " - rename column names more interpretable\n",
    " - recode attribute columns to integer(e.g. 1: strongly disagree, 2: disagree, ...)\n",
    " - combine attribute columns into single column(e.g. Math interest, Instrumental motivation, ...)\n",
    " - combine plausible value columns of math achievement into single column.\n",
    " - remove cases which have invalid international grades(e.g.`96`)\n",
    " - drop cases which have some missing values"
   ]
  },
  {
   "cell_type": "markdown",
   "metadata": {},
   "source": [
    "### Clean"
   ]
  },
  {
   "cell_type": "code",
   "execution_count": 24,
   "metadata": {},
   "outputs": [],
   "source": [
    "pisa2012_copy=pisa2012.copy()"
   ]
  },
  {
   "cell_type": "markdown",
   "metadata": {},
   "source": [
    "#### 1. filter OECD country"
   ]
  },
  {
   "cell_type": "markdown",
   "metadata": {},
   "source": [
    "##### Define\n",
    " - filter OECD country"
   ]
  },
  {
   "cell_type": "markdown",
   "metadata": {},
   "source": [
    "##### Code"
   ]
  },
  {
   "cell_type": "code",
   "execution_count": 25,
   "metadata": {},
   "outputs": [],
   "source": [
    "pisa2012_copy = pisa2012_copy[pisa2012_copy['OECD']==\"OECD\"]"
   ]
  },
  {
   "cell_type": "markdown",
   "metadata": {},
   "source": [
    "##### Test"
   ]
  },
  {
   "cell_type": "code",
   "execution_count": 27,
   "metadata": {},
   "outputs": [
    {
     "data": {
      "text/plain": [
       "OECD    295416\n",
       "Name: OECD, dtype: int64"
      ]
     },
     "execution_count": 27,
     "metadata": {},
     "output_type": "execute_result"
    }
   ],
   "source": [
    "pisa2012_copy.OECD.value_counts()"
   ]
  },
  {
   "cell_type": "markdown",
   "metadata": {},
   "source": [
    "#### 2. remove unnecessary columns"
   ]
  },
  {
   "cell_type": "markdown",
   "metadata": {},
   "source": [
    "##### Define\n",
    " - Some unnecessary columns in dataset could be removed."
   ]
  },
  {
   "cell_type": "markdown",
   "metadata": {},
   "source": [
    "##### Code"
   ]
  },
  {
   "cell_type": "code",
   "execution_count": 28,
   "metadata": {},
   "outputs": [],
   "source": [
    "used_columns = [\n",
    "    'CNT',\n",
    "    'SUBNATIO',\n",
    "    'STRATUM',\n",
    "    'OECD',\n",
    "    'NC',\n",
    "    'SCHOOLID',\n",
    "    'STIDSTD',\n",
    "    'ST01Q01',\n",
    "    'ST04Q01'\n",
    "] + interest + motivation+ subnorms+efficacy+anxiety+concept"
   ]
  },
  {
   "cell_type": "code",
   "execution_count": 29,
   "metadata": {},
   "outputs": [],
   "source": [
    "used_columns = used_columns+['ESCS']+plausible_math"
   ]
  },
  {
   "cell_type": "code",
   "execution_count": 30,
   "metadata": {},
   "outputs": [],
   "source": [
    "pisa2012_copy = pisa2012_copy[used_columns]"
   ]
  },
  {
   "cell_type": "markdown",
   "metadata": {},
   "source": [
    "##### Test"
   ]
  },
  {
   "cell_type": "code",
   "execution_count": 31,
   "metadata": {},
   "outputs": [
    {
     "name": "stdout",
     "output_type": "stream",
     "text": [
      "<class 'pandas.core.frame.DataFrame'>\n",
      "Int64Index: 295416 entries, 22151 to 480530\n",
      "Data columns (total 47 columns):\n",
      "CNT         295416 non-null object\n",
      "SUBNATIO    295416 non-null int64\n",
      "STRATUM     295416 non-null object\n",
      "OECD        295416 non-null object\n",
      "NC          295416 non-null object\n",
      "SCHOOLID    295416 non-null int64\n",
      "STIDSTD     295416 non-null int64\n",
      "ST01Q01     295416 non-null int64\n",
      "ST04Q01     295416 non-null object\n",
      "ST29Q01     192729 non-null object\n",
      "ST29Q03     192256 non-null object\n",
      "ST29Q04     192137 non-null object\n",
      "ST29Q06     192110 non-null object\n",
      "ST29Q02     192510 non-null object\n",
      "ST29Q05     192489 non-null object\n",
      "ST29Q07     192289 non-null object\n",
      "ST29Q08     192296 non-null object\n",
      "ST35Q01     192591 non-null object\n",
      "ST35Q02     192340 non-null object\n",
      "ST35Q03     192258 non-null object\n",
      "ST35Q04     192376 non-null object\n",
      "ST35Q05     192070 non-null object\n",
      "ST35Q06     190861 non-null object\n",
      "ST37Q01     192327 non-null object\n",
      "ST37Q02     192443 non-null object\n",
      "ST37Q03     192173 non-null object\n",
      "ST37Q04     191938 non-null object\n",
      "ST37Q05     192176 non-null object\n",
      "ST37Q06     192052 non-null object\n",
      "ST37Q07     192181 non-null object\n",
      "ST37Q08     192157 non-null object\n",
      "ST42Q01     191915 non-null object\n",
      "ST42Q03     191218 non-null object\n",
      "ST42Q05     191470 non-null object\n",
      "ST42Q08     191275 non-null object\n",
      "ST42Q10     191375 non-null object\n",
      "ST42Q02     191733 non-null object\n",
      "ST42Q04     190802 non-null object\n",
      "ST42Q06     191107 non-null object\n",
      "ST42Q07     191407 non-null object\n",
      "ST42Q09     190989 non-null object\n",
      "ESCS        290304 non-null float64\n",
      "PV1MATH     295416 non-null float64\n",
      "PV2MATH     295416 non-null float64\n",
      "PV3MATH     295416 non-null float64\n",
      "PV4MATH     295416 non-null float64\n",
      "PV5MATH     295416 non-null float64\n",
      "dtypes: float64(6), int64(4), object(37)\n",
      "memory usage: 108.2+ MB\n"
     ]
    }
   ],
   "source": [
    "pisa2012_copy.info()"
   ]
  },
  {
   "cell_type": "code",
   "execution_count": 32,
   "metadata": {},
   "outputs": [
    {
     "data": {
      "text/html": [
       "<div>\n",
       "<style scoped>\n",
       "    .dataframe tbody tr th:only-of-type {\n",
       "        vertical-align: middle;\n",
       "    }\n",
       "\n",
       "    .dataframe tbody tr th {\n",
       "        vertical-align: top;\n",
       "    }\n",
       "\n",
       "    .dataframe thead th {\n",
       "        text-align: right;\n",
       "    }\n",
       "</style>\n",
       "<table border=\"1\" class=\"dataframe\">\n",
       "  <thead>\n",
       "    <tr style=\"text-align: right;\">\n",
       "      <th></th>\n",
       "      <th>CNT</th>\n",
       "      <th>SUBNATIO</th>\n",
       "      <th>STRATUM</th>\n",
       "      <th>OECD</th>\n",
       "      <th>NC</th>\n",
       "      <th>SCHOOLID</th>\n",
       "      <th>STIDSTD</th>\n",
       "      <th>ST01Q01</th>\n",
       "      <th>ST04Q01</th>\n",
       "      <th>ST29Q01</th>\n",
       "      <th>...</th>\n",
       "      <th>ST42Q04</th>\n",
       "      <th>ST42Q06</th>\n",
       "      <th>ST42Q07</th>\n",
       "      <th>ST42Q09</th>\n",
       "      <th>ESCS</th>\n",
       "      <th>PV1MATH</th>\n",
       "      <th>PV2MATH</th>\n",
       "      <th>PV3MATH</th>\n",
       "      <th>PV4MATH</th>\n",
       "      <th>PV5MATH</th>\n",
       "    </tr>\n",
       "  </thead>\n",
       "  <tbody>\n",
       "    <tr>\n",
       "      <th>22151</th>\n",
       "      <td>Australia</td>\n",
       "      <td>360000</td>\n",
       "      <td>AUS0309</td>\n",
       "      <td>OECD</td>\n",
       "      <td>Australia</td>\n",
       "      <td>1</td>\n",
       "      <td>1</td>\n",
       "      <td>10</td>\n",
       "      <td>Female</td>\n",
       "      <td>NaN</td>\n",
       "      <td>...</td>\n",
       "      <td>Agree</td>\n",
       "      <td>Strongly agree</td>\n",
       "      <td>Agree</td>\n",
       "      <td>Agree</td>\n",
       "      <td>0.70</td>\n",
       "      <td>561.5439</td>\n",
       "      <td>569.3332</td>\n",
       "      <td>555.3124</td>\n",
       "      <td>578.6805</td>\n",
       "      <td>548.3019</td>\n",
       "    </tr>\n",
       "    <tr>\n",
       "      <th>22152</th>\n",
       "      <td>Australia</td>\n",
       "      <td>360000</td>\n",
       "      <td>AUS0309</td>\n",
       "      <td>OECD</td>\n",
       "      <td>Australia</td>\n",
       "      <td>1</td>\n",
       "      <td>2</td>\n",
       "      <td>10</td>\n",
       "      <td>Female</td>\n",
       "      <td>NaN</td>\n",
       "      <td>...</td>\n",
       "      <td>Strongly agree</td>\n",
       "      <td>Agree</td>\n",
       "      <td>Agree</td>\n",
       "      <td>Agree</td>\n",
       "      <td>-1.17</td>\n",
       "      <td>564.8154</td>\n",
       "      <td>557.0260</td>\n",
       "      <td>553.1313</td>\n",
       "      <td>538.3315</td>\n",
       "      <td>573.3837</td>\n",
       "    </tr>\n",
       "    <tr>\n",
       "      <th>22153</th>\n",
       "      <td>Australia</td>\n",
       "      <td>360000</td>\n",
       "      <td>AUS0309</td>\n",
       "      <td>OECD</td>\n",
       "      <td>Australia</td>\n",
       "      <td>1</td>\n",
       "      <td>3</td>\n",
       "      <td>10</td>\n",
       "      <td>Female</td>\n",
       "      <td>Disagree</td>\n",
       "      <td>...</td>\n",
       "      <td>NaN</td>\n",
       "      <td>NaN</td>\n",
       "      <td>NaN</td>\n",
       "      <td>NaN</td>\n",
       "      <td>0.01</td>\n",
       "      <td>507.3298</td>\n",
       "      <td>547.0556</td>\n",
       "      <td>511.2245</td>\n",
       "      <td>454.3621</td>\n",
       "      <td>546.2767</td>\n",
       "    </tr>\n",
       "    <tr>\n",
       "      <th>22154</th>\n",
       "      <td>Australia</td>\n",
       "      <td>360000</td>\n",
       "      <td>AUS0309</td>\n",
       "      <td>OECD</td>\n",
       "      <td>Australia</td>\n",
       "      <td>1</td>\n",
       "      <td>4</td>\n",
       "      <td>10</td>\n",
       "      <td>Male</td>\n",
       "      <td>Disagree</td>\n",
       "      <td>...</td>\n",
       "      <td>NaN</td>\n",
       "      <td>NaN</td>\n",
       "      <td>NaN</td>\n",
       "      <td>NaN</td>\n",
       "      <td>0.77</td>\n",
       "      <td>601.7370</td>\n",
       "      <td>593.9477</td>\n",
       "      <td>551.8850</td>\n",
       "      <td>526.1801</td>\n",
       "      <td>618.8737</td>\n",
       "    </tr>\n",
       "    <tr>\n",
       "      <th>22155</th>\n",
       "      <td>Australia</td>\n",
       "      <td>360000</td>\n",
       "      <td>AUS0309</td>\n",
       "      <td>OECD</td>\n",
       "      <td>Australia</td>\n",
       "      <td>1</td>\n",
       "      <td>5</td>\n",
       "      <td>10</td>\n",
       "      <td>Male</td>\n",
       "      <td>NaN</td>\n",
       "      <td>...</td>\n",
       "      <td>Disagree</td>\n",
       "      <td>Agree</td>\n",
       "      <td>Agree</td>\n",
       "      <td>Agree</td>\n",
       "      <td>0.80</td>\n",
       "      <td>520.1823</td>\n",
       "      <td>506.9403</td>\n",
       "      <td>500.7088</td>\n",
       "      <td>520.9612</td>\n",
       "      <td>547.4451</td>\n",
       "    </tr>\n",
       "  </tbody>\n",
       "</table>\n",
       "<p>5 rows × 47 columns</p>\n",
       "</div>"
      ],
      "text/plain": [
       "             CNT  SUBNATIO  STRATUM  OECD         NC  SCHOOLID  STIDSTD  \\\n",
       "22151  Australia    360000  AUS0309  OECD  Australia         1        1   \n",
       "22152  Australia    360000  AUS0309  OECD  Australia         1        2   \n",
       "22153  Australia    360000  AUS0309  OECD  Australia         1        3   \n",
       "22154  Australia    360000  AUS0309  OECD  Australia         1        4   \n",
       "22155  Australia    360000  AUS0309  OECD  Australia         1        5   \n",
       "\n",
       "       ST01Q01 ST04Q01   ST29Q01  ...         ST42Q04         ST42Q06 ST42Q07  \\\n",
       "22151       10  Female       NaN  ...           Agree  Strongly agree   Agree   \n",
       "22152       10  Female       NaN  ...  Strongly agree           Agree   Agree   \n",
       "22153       10  Female  Disagree  ...             NaN             NaN     NaN   \n",
       "22154       10    Male  Disagree  ...             NaN             NaN     NaN   \n",
       "22155       10    Male       NaN  ...        Disagree           Agree   Agree   \n",
       "\n",
       "      ST42Q09  ESCS   PV1MATH   PV2MATH   PV3MATH   PV4MATH   PV5MATH  \n",
       "22151   Agree  0.70  561.5439  569.3332  555.3124  578.6805  548.3019  \n",
       "22152   Agree -1.17  564.8154  557.0260  553.1313  538.3315  573.3837  \n",
       "22153     NaN  0.01  507.3298  547.0556  511.2245  454.3621  546.2767  \n",
       "22154     NaN  0.77  601.7370  593.9477  551.8850  526.1801  618.8737  \n",
       "22155   Agree  0.80  520.1823  506.9403  500.7088  520.9612  547.4451  \n",
       "\n",
       "[5 rows x 47 columns]"
      ]
     },
     "execution_count": 32,
     "metadata": {},
     "output_type": "execute_result"
    }
   ],
   "source": [
    "pisa2012_copy.head()"
   ]
  },
  {
   "cell_type": "markdown",
   "metadata": {},
   "source": [
    "#### 3. rename column names more readable"
   ]
  },
  {
   "cell_type": "markdown",
   "metadata": {},
   "source": [
    "##### Define  <br>  \n",
    " - rename column names more readable\n"
   ]
  },
  {
   "cell_type": "code",
   "execution_count": null,
   "metadata": {},
   "outputs": [],
   "source": []
  },
  {
   "cell_type": "markdown",
   "metadata": {},
   "source": [
    "##### Code"
   ]
  },
  {
   "cell_type": "code",
   "execution_count": 33,
   "metadata": {},
   "outputs": [],
   "source": [
    "column_rename_step1 = {\n",
    "    'ST01Q01': 'Grade',\n",
    "    'ST04Q01': 'Gender',\n",
    "    'ST29Q01': 'interest1',\n",
    "    'ST29Q03': 'interest2',\n",
    "    'ST29Q04': 'interest3',\n",
    "    'ST29Q06': 'interest4',\n",
    "    'ST29Q02': 'motiv1',\n",
    "    'ST29Q05':'motiv2',\n",
    "    'ST29Q07':'motiv3',\n",
    "    'ST29Q08':'motiv4'\n",
    "}"
   ]
  },
  {
   "cell_type": "code",
   "execution_count": 34,
   "metadata": {},
   "outputs": [],
   "source": [
    "pisa2012_copy.rename(columns=column_rename_step1,inplace=True)"
   ]
  },
  {
   "cell_type": "code",
   "execution_count": 35,
   "metadata": {},
   "outputs": [
    {
     "name": "stdout",
     "output_type": "stream",
     "text": [
      "['snorm1', 'snorm2', 'snorm3', 'snorm4', 'snorm5', 'snorm6']\n"
     ]
    }
   ],
   "source": [
    "### subjective norm\n",
    "rename_subnorm = []\n",
    "for col in subnorms: \n",
    "    renam = col.replace(\"ST35Q0\",\"snorm\")\n",
    "    rename_subnorm.append(renam)\n",
    "print(rename_subnorm)\n",
    "column_rename_step2 = dict(zip(subnorms,rename_subnorm))\n",
    "pisa2012_copy.rename(columns=column_rename_step2,inplace=True)"
   ]
  },
  {
   "cell_type": "code",
   "execution_count": 39,
   "metadata": {},
   "outputs": [
    {
     "name": "stdout",
     "output_type": "stream",
     "text": [
      "['efficacy1', 'efficacy2', 'efficacy3', 'efficacy4', 'efficacy5', 'efficacy6', 'efficacy7', 'efficacy8']\n"
     ]
    }
   ],
   "source": [
    "### Math Self-efficacy\n",
    "rename_efficacy = []\n",
    "for col in efficacy:\n",
    "    renam = col.replace(\"ST37Q0\",\"efficacy\")\n",
    "    rename_efficacy.append(renam)\n",
    "print(rename_efficacy)\n",
    "column_rename_step3 = dict(zip(efficacy,rename_efficacy))\n",
    "pisa2012_copy.rename(columns=column_rename_step3, inplace=True)"
   ]
  },
  {
   "cell_type": "code",
   "execution_count": 36,
   "metadata": {},
   "outputs": [
    {
     "name": "stdout",
     "output_type": "stream",
     "text": [
      "['anxiety1', 'anxiety2', 'anxiety3', 'anxiety4', 'anxiety5']\n"
     ]
    }
   ],
   "source": [
    "### Math anxiety\n",
    "anxiety\n",
    "loca = 0\n",
    "rename_anxiety = []\n",
    "for col in anxiety:\n",
    "    loca +=1\n",
    "    renam = col.replace(str(col),str(\"anxiety\")+str(loca))\n",
    "    rename_anxiety.append(renam)\n",
    "print(rename_anxiety)\n",
    "column_rename_step4 = dict(zip(anxiety,rename_anxiety))\n",
    "pisa2012_copy.rename(columns=column_rename_step4, inplace=True)"
   ]
  },
  {
   "cell_type": "code",
   "execution_count": 37,
   "metadata": {},
   "outputs": [
    {
     "name": "stdout",
     "output_type": "stream",
     "text": [
      "['self_concept1', 'self_concept2', 'self_concept3', 'self_concept4', 'self_concept5']\n"
     ]
    }
   ],
   "source": [
    "### Math Self-concept\n",
    "concept\n",
    "loca = 0\n",
    "rename_concept = []\n",
    "for col in concept:\n",
    "    loca += 1\n",
    "    renam = col.replace(str(col),str(\"self_concept\")+str(loca))\n",
    "    rename_concept.append(renam)\n",
    "print(rename_concept)\n",
    "column_rename_step5 = dict(zip(concept,rename_concept))\n",
    "pisa2012_copy.rename(columns=column_rename_step5, inplace=True)"
   ]
  },
  {
   "cell_type": "markdown",
   "metadata": {},
   "source": [
    "##### Test"
   ]
  },
  {
   "cell_type": "code",
   "execution_count": 40,
   "metadata": {},
   "outputs": [
    {
     "name": "stdout",
     "output_type": "stream",
     "text": [
      "<class 'pandas.core.frame.DataFrame'>\n",
      "Int64Index: 295416 entries, 22151 to 480530\n",
      "Data columns (total 47 columns):\n",
      "CNT              295416 non-null object\n",
      "SUBNATIO         295416 non-null int64\n",
      "STRATUM          295416 non-null object\n",
      "OECD             295416 non-null object\n",
      "NC               295416 non-null object\n",
      "SCHOOLID         295416 non-null int64\n",
      "STIDSTD          295416 non-null int64\n",
      "Grade            295416 non-null int64\n",
      "Gender           295416 non-null object\n",
      "interest1        192729 non-null object\n",
      "interest2        192256 non-null object\n",
      "interest3        192137 non-null object\n",
      "interest4        192110 non-null object\n",
      "motiv1           192510 non-null object\n",
      "motiv2           192489 non-null object\n",
      "motiv3           192289 non-null object\n",
      "motiv4           192296 non-null object\n",
      "snorm1           192591 non-null object\n",
      "snorm2           192340 non-null object\n",
      "snorm3           192258 non-null object\n",
      "snorm4           192376 non-null object\n",
      "snorm5           192070 non-null object\n",
      "snorm6           190861 non-null object\n",
      "efficacy1        192327 non-null object\n",
      "efficacy2        192443 non-null object\n",
      "efficacy3        192173 non-null object\n",
      "efficacy4        191938 non-null object\n",
      "efficacy5        192176 non-null object\n",
      "efficacy6        192052 non-null object\n",
      "efficacy7        192181 non-null object\n",
      "efficacy8        192157 non-null object\n",
      "anxiety1         191915 non-null object\n",
      "anxiety2         191218 non-null object\n",
      "anxiety3         191470 non-null object\n",
      "anxiety4         191275 non-null object\n",
      "anxiety5         191375 non-null object\n",
      "self_concept1    191733 non-null object\n",
      "self_concept2    190802 non-null object\n",
      "self_concept3    191107 non-null object\n",
      "self_concept4    191407 non-null object\n",
      "self_concept5    190989 non-null object\n",
      "ESCS             290304 non-null float64\n",
      "PV1MATH          295416 non-null float64\n",
      "PV2MATH          295416 non-null float64\n",
      "PV3MATH          295416 non-null float64\n",
      "PV4MATH          295416 non-null float64\n",
      "PV5MATH          295416 non-null float64\n",
      "dtypes: float64(6), int64(4), object(37)\n",
      "memory usage: 108.2+ MB\n"
     ]
    },
    {
     "data": {
      "text/html": [
       "<div>\n",
       "<style scoped>\n",
       "    .dataframe tbody tr th:only-of-type {\n",
       "        vertical-align: middle;\n",
       "    }\n",
       "\n",
       "    .dataframe tbody tr th {\n",
       "        vertical-align: top;\n",
       "    }\n",
       "\n",
       "    .dataframe thead th {\n",
       "        text-align: right;\n",
       "    }\n",
       "</style>\n",
       "<table border=\"1\" class=\"dataframe\">\n",
       "  <thead>\n",
       "    <tr style=\"text-align: right;\">\n",
       "      <th></th>\n",
       "      <th>CNT</th>\n",
       "      <th>SUBNATIO</th>\n",
       "      <th>STRATUM</th>\n",
       "      <th>OECD</th>\n",
       "      <th>NC</th>\n",
       "      <th>SCHOOLID</th>\n",
       "      <th>STIDSTD</th>\n",
       "      <th>Grade</th>\n",
       "      <th>Gender</th>\n",
       "      <th>interest1</th>\n",
       "      <th>...</th>\n",
       "      <th>self_concept2</th>\n",
       "      <th>self_concept3</th>\n",
       "      <th>self_concept4</th>\n",
       "      <th>self_concept5</th>\n",
       "      <th>ESCS</th>\n",
       "      <th>PV1MATH</th>\n",
       "      <th>PV2MATH</th>\n",
       "      <th>PV3MATH</th>\n",
       "      <th>PV4MATH</th>\n",
       "      <th>PV5MATH</th>\n",
       "    </tr>\n",
       "  </thead>\n",
       "  <tbody>\n",
       "    <tr>\n",
       "      <th>22151</th>\n",
       "      <td>Australia</td>\n",
       "      <td>360000</td>\n",
       "      <td>AUS0309</td>\n",
       "      <td>OECD</td>\n",
       "      <td>Australia</td>\n",
       "      <td>1</td>\n",
       "      <td>1</td>\n",
       "      <td>10</td>\n",
       "      <td>Female</td>\n",
       "      <td>NaN</td>\n",
       "      <td>...</td>\n",
       "      <td>Agree</td>\n",
       "      <td>Strongly agree</td>\n",
       "      <td>Agree</td>\n",
       "      <td>Agree</td>\n",
       "      <td>0.70</td>\n",
       "      <td>561.5439</td>\n",
       "      <td>569.3332</td>\n",
       "      <td>555.3124</td>\n",
       "      <td>578.6805</td>\n",
       "      <td>548.3019</td>\n",
       "    </tr>\n",
       "    <tr>\n",
       "      <th>22152</th>\n",
       "      <td>Australia</td>\n",
       "      <td>360000</td>\n",
       "      <td>AUS0309</td>\n",
       "      <td>OECD</td>\n",
       "      <td>Australia</td>\n",
       "      <td>1</td>\n",
       "      <td>2</td>\n",
       "      <td>10</td>\n",
       "      <td>Female</td>\n",
       "      <td>NaN</td>\n",
       "      <td>...</td>\n",
       "      <td>Strongly agree</td>\n",
       "      <td>Agree</td>\n",
       "      <td>Agree</td>\n",
       "      <td>Agree</td>\n",
       "      <td>-1.17</td>\n",
       "      <td>564.8154</td>\n",
       "      <td>557.0260</td>\n",
       "      <td>553.1313</td>\n",
       "      <td>538.3315</td>\n",
       "      <td>573.3837</td>\n",
       "    </tr>\n",
       "    <tr>\n",
       "      <th>22153</th>\n",
       "      <td>Australia</td>\n",
       "      <td>360000</td>\n",
       "      <td>AUS0309</td>\n",
       "      <td>OECD</td>\n",
       "      <td>Australia</td>\n",
       "      <td>1</td>\n",
       "      <td>3</td>\n",
       "      <td>10</td>\n",
       "      <td>Female</td>\n",
       "      <td>Disagree</td>\n",
       "      <td>...</td>\n",
       "      <td>NaN</td>\n",
       "      <td>NaN</td>\n",
       "      <td>NaN</td>\n",
       "      <td>NaN</td>\n",
       "      <td>0.01</td>\n",
       "      <td>507.3298</td>\n",
       "      <td>547.0556</td>\n",
       "      <td>511.2245</td>\n",
       "      <td>454.3621</td>\n",
       "      <td>546.2767</td>\n",
       "    </tr>\n",
       "    <tr>\n",
       "      <th>22154</th>\n",
       "      <td>Australia</td>\n",
       "      <td>360000</td>\n",
       "      <td>AUS0309</td>\n",
       "      <td>OECD</td>\n",
       "      <td>Australia</td>\n",
       "      <td>1</td>\n",
       "      <td>4</td>\n",
       "      <td>10</td>\n",
       "      <td>Male</td>\n",
       "      <td>Disagree</td>\n",
       "      <td>...</td>\n",
       "      <td>NaN</td>\n",
       "      <td>NaN</td>\n",
       "      <td>NaN</td>\n",
       "      <td>NaN</td>\n",
       "      <td>0.77</td>\n",
       "      <td>601.7370</td>\n",
       "      <td>593.9477</td>\n",
       "      <td>551.8850</td>\n",
       "      <td>526.1801</td>\n",
       "      <td>618.8737</td>\n",
       "    </tr>\n",
       "    <tr>\n",
       "      <th>22155</th>\n",
       "      <td>Australia</td>\n",
       "      <td>360000</td>\n",
       "      <td>AUS0309</td>\n",
       "      <td>OECD</td>\n",
       "      <td>Australia</td>\n",
       "      <td>1</td>\n",
       "      <td>5</td>\n",
       "      <td>10</td>\n",
       "      <td>Male</td>\n",
       "      <td>NaN</td>\n",
       "      <td>...</td>\n",
       "      <td>Disagree</td>\n",
       "      <td>Agree</td>\n",
       "      <td>Agree</td>\n",
       "      <td>Agree</td>\n",
       "      <td>0.80</td>\n",
       "      <td>520.1823</td>\n",
       "      <td>506.9403</td>\n",
       "      <td>500.7088</td>\n",
       "      <td>520.9612</td>\n",
       "      <td>547.4451</td>\n",
       "    </tr>\n",
       "  </tbody>\n",
       "</table>\n",
       "<p>5 rows × 47 columns</p>\n",
       "</div>"
      ],
      "text/plain": [
       "             CNT  SUBNATIO  STRATUM  OECD         NC  SCHOOLID  STIDSTD  \\\n",
       "22151  Australia    360000  AUS0309  OECD  Australia         1        1   \n",
       "22152  Australia    360000  AUS0309  OECD  Australia         1        2   \n",
       "22153  Australia    360000  AUS0309  OECD  Australia         1        3   \n",
       "22154  Australia    360000  AUS0309  OECD  Australia         1        4   \n",
       "22155  Australia    360000  AUS0309  OECD  Australia         1        5   \n",
       "\n",
       "       Grade  Gender interest1  ...   self_concept2   self_concept3  \\\n",
       "22151     10  Female       NaN  ...           Agree  Strongly agree   \n",
       "22152     10  Female       NaN  ...  Strongly agree           Agree   \n",
       "22153     10  Female  Disagree  ...             NaN             NaN   \n",
       "22154     10    Male  Disagree  ...             NaN             NaN   \n",
       "22155     10    Male       NaN  ...        Disagree           Agree   \n",
       "\n",
       "      self_concept4 self_concept5  ESCS   PV1MATH   PV2MATH   PV3MATH  \\\n",
       "22151         Agree         Agree  0.70  561.5439  569.3332  555.3124   \n",
       "22152         Agree         Agree -1.17  564.8154  557.0260  553.1313   \n",
       "22153           NaN           NaN  0.01  507.3298  547.0556  511.2245   \n",
       "22154           NaN           NaN  0.77  601.7370  593.9477  551.8850   \n",
       "22155         Agree         Agree  0.80  520.1823  506.9403  500.7088   \n",
       "\n",
       "        PV4MATH   PV5MATH  \n",
       "22151  578.6805  548.3019  \n",
       "22152  538.3315  573.3837  \n",
       "22153  454.3621  546.2767  \n",
       "22154  526.1801  618.8737  \n",
       "22155  520.9612  547.4451  \n",
       "\n",
       "[5 rows x 47 columns]"
      ]
     },
     "execution_count": 40,
     "metadata": {},
     "output_type": "execute_result"
    }
   ],
   "source": [
    "pisa2012_copy.info()\n",
    "pisa2012_copy.head()"
   ]
  },
  {
   "cell_type": "markdown",
   "metadata": {},
   "source": [
    "#### 4. recode the type of attribute columns to integer"
   ]
  },
  {
   "cell_type": "markdown",
   "metadata": {},
   "source": [
    "##### Define\n",
    " - recode the type of attribute columns to integer"
   ]
  },
  {
   "cell_type": "markdown",
   "metadata": {},
   "source": [
    "##### Code"
   ]
  },
  {
   "cell_type": "code",
   "execution_count": 41,
   "metadata": {},
   "outputs": [],
   "source": [
    "recode_1 = {\n",
    "    'Strongly disagree':1,\n",
    "    'Disagree':2,\n",
    "    'Agree':3,\n",
    "    'Strongly agree':4\n",
    "}\n",
    "recode_2 = {\n",
    "    'Not at all confident':1,\n",
    "    'Not very confident':2,\n",
    "    'Confident':3,\n",
    "    'Very confident':4\n",
    "}"
   ]
  },
  {
   "cell_type": "code",
   "execution_count": 42,
   "metadata": {},
   "outputs": [
    {
     "name": "stdout",
     "output_type": "stream",
     "text": [
      "['interest1', 'interest2', 'interest3', 'interest4']\n",
      "['motiv1', 'motiv2', 'motiv3', 'motiv4']\n",
      "['snorm1', 'snorm2', 'snorm3', 'snorm4', 'snorm5', 'snorm6']\n",
      "['anxiety1', 'anxiety2', 'anxiety3', 'anxiety4', 'anxiety5']\n",
      "['self_concept1', 'self_concept2', 'self_concept3', 'self_concept4', 'self_concept5']\n"
     ]
    }
   ],
   "source": [
    "## interest : recode_1\n",
    "## motiv: recode_1\n",
    "## snorm: recode_1\n",
    "## efficacy: recode_2\n",
    "## anxiety: recode_1\n",
    "## self_concept: recode_1\n",
    "### replace columns except efficacy: recode_1\n",
    "varnames_recode1=['interest','motiv','snorm','anxiety','self_concept']\n",
    "for varname in varnames_recode1:\n",
    "    colsel = list(pisa2012_copy.columns[pisa2012_copy.columns.str.contains(varname)])\n",
    "    print(colsel)\n",
    "    pisa2012_copy[colsel] = pisa2012_copy[colsel].replace(recode_1)"
   ]
  },
  {
   "cell_type": "code",
   "execution_count": 43,
   "metadata": {},
   "outputs": [],
   "source": [
    "## replace self-efficacy: recode_2\n",
    "colsel = list(pisa2012_copy.columns[pisa2012_copy.columns.str.contains('efficacy')])\n",
    "pisa2012_copy[colsel] = pisa2012_copy[colsel].replace(recode_2)"
   ]
  },
  {
   "cell_type": "markdown",
   "metadata": {},
   "source": [
    "##### Test"
   ]
  },
  {
   "cell_type": "code",
   "execution_count": 44,
   "metadata": {},
   "outputs": [
    {
     "name": "stdout",
     "output_type": "stream",
     "text": [
      "<class 'pandas.core.frame.DataFrame'>\n",
      "Int64Index: 295416 entries, 22151 to 480530\n",
      "Data columns (total 47 columns):\n",
      "CNT              295416 non-null object\n",
      "SUBNATIO         295416 non-null int64\n",
      "STRATUM          295416 non-null object\n",
      "OECD             295416 non-null object\n",
      "NC               295416 non-null object\n",
      "SCHOOLID         295416 non-null int64\n",
      "STIDSTD          295416 non-null int64\n",
      "Grade            295416 non-null int64\n",
      "Gender           295416 non-null object\n",
      "interest1        192729 non-null float64\n",
      "interest2        192256 non-null float64\n",
      "interest3        192137 non-null float64\n",
      "interest4        192110 non-null float64\n",
      "motiv1           192510 non-null float64\n",
      "motiv2           192489 non-null float64\n",
      "motiv3           192289 non-null float64\n",
      "motiv4           192296 non-null float64\n",
      "snorm1           192591 non-null float64\n",
      "snorm2           192340 non-null float64\n",
      "snorm3           192258 non-null float64\n",
      "snorm4           192376 non-null float64\n",
      "snorm5           192070 non-null float64\n",
      "snorm6           190861 non-null float64\n",
      "efficacy1        192327 non-null float64\n",
      "efficacy2        192443 non-null float64\n",
      "efficacy3        192173 non-null float64\n",
      "efficacy4        191938 non-null float64\n",
      "efficacy5        192176 non-null float64\n",
      "efficacy6        192052 non-null float64\n",
      "efficacy7        192181 non-null float64\n",
      "efficacy8        192157 non-null float64\n",
      "anxiety1         191915 non-null float64\n",
      "anxiety2         191218 non-null float64\n",
      "anxiety3         191470 non-null float64\n",
      "anxiety4         191275 non-null float64\n",
      "anxiety5         191375 non-null float64\n",
      "self_concept1    191733 non-null float64\n",
      "self_concept2    190802 non-null float64\n",
      "self_concept3    191107 non-null float64\n",
      "self_concept4    191407 non-null float64\n",
      "self_concept5    190989 non-null float64\n",
      "ESCS             290304 non-null float64\n",
      "PV1MATH          295416 non-null float64\n",
      "PV2MATH          295416 non-null float64\n",
      "PV3MATH          295416 non-null float64\n",
      "PV4MATH          295416 non-null float64\n",
      "PV5MATH          295416 non-null float64\n",
      "dtypes: float64(38), int64(4), object(5)\n",
      "memory usage: 108.2+ MB\n"
     ]
    }
   ],
   "source": [
    "pisa2012_copy.info()"
   ]
  },
  {
   "cell_type": "markdown",
   "metadata": {},
   "source": [
    "#### 5. Combine columns part 1: attribute columns"
   ]
  },
  {
   "cell_type": "markdown",
   "metadata": {},
   "source": [
    "##### Define"
   ]
  },
  {
   "cell_type": "code",
   "execution_count": null,
   "metadata": {},
   "outputs": [],
   "source": []
  },
  {
   "cell_type": "markdown",
   "metadata": {},
   "source": [
    "##### Code"
   ]
  },
  {
   "cell_type": "code",
   "execution_count": 51,
   "metadata": {},
   "outputs": [
    {
     "name": "stdout",
     "output_type": "stream",
     "text": [
      "['interest1', 'interest2', 'interest3', 'interest4']\n",
      "['motiv1', 'motiv2', 'motiv3', 'motiv4']\n",
      "['snorm1', 'snorm2', 'snorm3', 'snorm4', 'snorm5', 'snorm6']\n",
      "['efficacy1', 'efficacy2', 'efficacy3', 'efficacy4', 'efficacy5', 'efficacy6', 'efficacy7', 'efficacy8']\n",
      "['anxiety1', 'anxiety2', 'anxiety3', 'anxiety4', 'anxiety5']\n",
      "['self_concept1', 'self_concept2', 'self_concept3', 'self_concept4', 'self_concept5']\n"
     ]
    }
   ],
   "source": [
    "varnames = ['interest','motiv','snorm','efficacy','anxiety','self_concept']\n",
    "for varname in varnames:\n",
    "    colsel = list(pisa2012_copy.columns[pisa2012_copy.columns.str.contains(varname)])\n",
    "    print(colsel)\n",
    "    pisa2012_copy[varname] = pisa2012_copy[colsel].mean(axis=1, skipna=True)"
   ]
  },
  {
   "cell_type": "code",
   "execution_count": null,
   "metadata": {},
   "outputs": [],
   "source": []
  },
  {
   "cell_type": "markdown",
   "metadata": {},
   "source": [
    "##### Test"
   ]
  },
  {
   "cell_type": "code",
   "execution_count": 55,
   "metadata": {},
   "outputs": [
    {
     "data": {
      "text/html": [
       "<div>\n",
       "<style scoped>\n",
       "    .dataframe tbody tr th:only-of-type {\n",
       "        vertical-align: middle;\n",
       "    }\n",
       "\n",
       "    .dataframe tbody tr th {\n",
       "        vertical-align: top;\n",
       "    }\n",
       "\n",
       "    .dataframe thead th {\n",
       "        text-align: right;\n",
       "    }\n",
       "</style>\n",
       "<table border=\"1\" class=\"dataframe\">\n",
       "  <thead>\n",
       "    <tr style=\"text-align: right;\">\n",
       "      <th></th>\n",
       "      <th>interest</th>\n",
       "      <th>motiv</th>\n",
       "      <th>snorm</th>\n",
       "      <th>efficacy</th>\n",
       "      <th>anxiety</th>\n",
       "      <th>self_concept</th>\n",
       "    </tr>\n",
       "  </thead>\n",
       "  <tbody>\n",
       "    <tr>\n",
       "      <th>22151</th>\n",
       "      <td>NaN</td>\n",
       "      <td>NaN</td>\n",
       "      <td>NaN</td>\n",
       "      <td>NaN</td>\n",
       "      <td>2.0</td>\n",
       "      <td>2.8</td>\n",
       "    </tr>\n",
       "    <tr>\n",
       "      <th>22152</th>\n",
       "      <td>NaN</td>\n",
       "      <td>NaN</td>\n",
       "      <td>NaN</td>\n",
       "      <td>NaN</td>\n",
       "      <td>1.8</td>\n",
       "      <td>2.8</td>\n",
       "    </tr>\n",
       "    <tr>\n",
       "      <th>22153</th>\n",
       "      <td>2.25</td>\n",
       "      <td>4.00</td>\n",
       "      <td>2.833333</td>\n",
       "      <td>2.875</td>\n",
       "      <td>NaN</td>\n",
       "      <td>NaN</td>\n",
       "    </tr>\n",
       "    <tr>\n",
       "      <th>22154</th>\n",
       "      <td>2.00</td>\n",
       "      <td>2.75</td>\n",
       "      <td>3.166667</td>\n",
       "      <td>3.500</td>\n",
       "      <td>NaN</td>\n",
       "      <td>NaN</td>\n",
       "    </tr>\n",
       "    <tr>\n",
       "      <th>22155</th>\n",
       "      <td>NaN</td>\n",
       "      <td>NaN</td>\n",
       "      <td>NaN</td>\n",
       "      <td>NaN</td>\n",
       "      <td>2.8</td>\n",
       "      <td>2.6</td>\n",
       "    </tr>\n",
       "  </tbody>\n",
       "</table>\n",
       "</div>"
      ],
      "text/plain": [
       "       interest  motiv     snorm  efficacy  anxiety  self_concept\n",
       "22151       NaN    NaN       NaN       NaN      2.0           2.8\n",
       "22152       NaN    NaN       NaN       NaN      1.8           2.8\n",
       "22153      2.25   4.00  2.833333     2.875      NaN           NaN\n",
       "22154      2.00   2.75  3.166667     3.500      NaN           NaN\n",
       "22155       NaN    NaN       NaN       NaN      2.8           2.6"
      ]
     },
     "execution_count": 55,
     "metadata": {},
     "output_type": "execute_result"
    }
   ],
   "source": [
    "pisa2012_copy[varnames].head()"
   ]
  },
  {
   "cell_type": "code",
   "execution_count": 56,
   "metadata": {},
   "outputs": [
    {
     "data": {
      "text/html": [
       "<div>\n",
       "<style scoped>\n",
       "    .dataframe tbody tr th:only-of-type {\n",
       "        vertical-align: middle;\n",
       "    }\n",
       "\n",
       "    .dataframe tbody tr th {\n",
       "        vertical-align: top;\n",
       "    }\n",
       "\n",
       "    .dataframe thead th {\n",
       "        text-align: right;\n",
       "    }\n",
       "</style>\n",
       "<table border=\"1\" class=\"dataframe\">\n",
       "  <thead>\n",
       "    <tr style=\"text-align: right;\">\n",
       "      <th></th>\n",
       "      <th>interest</th>\n",
       "      <th>motiv</th>\n",
       "      <th>snorm</th>\n",
       "      <th>efficacy</th>\n",
       "      <th>anxiety</th>\n",
       "      <th>self_concept</th>\n",
       "    </tr>\n",
       "  </thead>\n",
       "  <tbody>\n",
       "    <tr>\n",
       "      <th>count</th>\n",
       "      <td>193193.000000</td>\n",
       "      <td>193117.000000</td>\n",
       "      <td>193259.000000</td>\n",
       "      <td>192929.000000</td>\n",
       "      <td>192377.000000</td>\n",
       "      <td>192370.000000</td>\n",
       "    </tr>\n",
       "    <tr>\n",
       "      <th>mean</th>\n",
       "      <td>2.327664</td>\n",
       "      <td>2.946449</td>\n",
       "      <td>2.696641</td>\n",
       "      <td>3.025048</td>\n",
       "      <td>2.442405</td>\n",
       "      <td>2.437868</td>\n",
       "    </tr>\n",
       "    <tr>\n",
       "      <th>std</th>\n",
       "      <td>0.771037</td>\n",
       "      <td>0.755263</td>\n",
       "      <td>0.456989</td>\n",
       "      <td>0.590698</td>\n",
       "      <td>0.696870</td>\n",
       "      <td>0.505592</td>\n",
       "    </tr>\n",
       "    <tr>\n",
       "      <th>min</th>\n",
       "      <td>1.000000</td>\n",
       "      <td>1.000000</td>\n",
       "      <td>1.000000</td>\n",
       "      <td>1.000000</td>\n",
       "      <td>1.000000</td>\n",
       "      <td>1.000000</td>\n",
       "    </tr>\n",
       "    <tr>\n",
       "      <th>25%</th>\n",
       "      <td>1.750000</td>\n",
       "      <td>2.500000</td>\n",
       "      <td>2.400000</td>\n",
       "      <td>2.625000</td>\n",
       "      <td>2.000000</td>\n",
       "      <td>2.000000</td>\n",
       "    </tr>\n",
       "    <tr>\n",
       "      <th>50%</th>\n",
       "      <td>2.250000</td>\n",
       "      <td>3.000000</td>\n",
       "      <td>2.666667</td>\n",
       "      <td>3.000000</td>\n",
       "      <td>2.400000</td>\n",
       "      <td>2.400000</td>\n",
       "    </tr>\n",
       "    <tr>\n",
       "      <th>75%</th>\n",
       "      <td>3.000000</td>\n",
       "      <td>3.500000</td>\n",
       "      <td>3.000000</td>\n",
       "      <td>3.500000</td>\n",
       "      <td>3.000000</td>\n",
       "      <td>2.800000</td>\n",
       "    </tr>\n",
       "    <tr>\n",
       "      <th>max</th>\n",
       "      <td>4.000000</td>\n",
       "      <td>4.000000</td>\n",
       "      <td>4.000000</td>\n",
       "      <td>4.000000</td>\n",
       "      <td>4.000000</td>\n",
       "      <td>4.000000</td>\n",
       "    </tr>\n",
       "  </tbody>\n",
       "</table>\n",
       "</div>"
      ],
      "text/plain": [
       "            interest          motiv          snorm       efficacy  \\\n",
       "count  193193.000000  193117.000000  193259.000000  192929.000000   \n",
       "mean        2.327664       2.946449       2.696641       3.025048   \n",
       "std         0.771037       0.755263       0.456989       0.590698   \n",
       "min         1.000000       1.000000       1.000000       1.000000   \n",
       "25%         1.750000       2.500000       2.400000       2.625000   \n",
       "50%         2.250000       3.000000       2.666667       3.000000   \n",
       "75%         3.000000       3.500000       3.000000       3.500000   \n",
       "max         4.000000       4.000000       4.000000       4.000000   \n",
       "\n",
       "             anxiety   self_concept  \n",
       "count  192377.000000  192370.000000  \n",
       "mean        2.442405       2.437868  \n",
       "std         0.696870       0.505592  \n",
       "min         1.000000       1.000000  \n",
       "25%         2.000000       2.000000  \n",
       "50%         2.400000       2.400000  \n",
       "75%         3.000000       2.800000  \n",
       "max         4.000000       4.000000  "
      ]
     },
     "execution_count": 56,
     "metadata": {},
     "output_type": "execute_result"
    }
   ],
   "source": [
    "pisa2012_copy[varnames].describe()"
   ]
  },
  {
   "cell_type": "markdown",
   "metadata": {},
   "source": [
    "#### 6. Combine columns part 2: Plausible values of Math achievement"
   ]
  },
  {
   "cell_type": "markdown",
   "metadata": {},
   "source": [
    "##### Define"
   ]
  },
  {
   "cell_type": "code",
   "execution_count": null,
   "metadata": {},
   "outputs": [],
   "source": []
  },
  {
   "cell_type": "markdown",
   "metadata": {},
   "source": [
    "##### Code"
   ]
  },
  {
   "cell_type": "code",
   "execution_count": 58,
   "metadata": {},
   "outputs": [],
   "source": [
    "pisa2012_copy['MATH'] = pisa2012_copy[['PV1MATH','PV2MATH','PV3MATH','PV4MATH','PV5MATH']].mean(axis=1,skipna=True)"
   ]
  },
  {
   "cell_type": "markdown",
   "metadata": {},
   "source": [
    "##### Test"
   ]
  },
  {
   "cell_type": "code",
   "execution_count": 59,
   "metadata": {},
   "outputs": [
    {
     "name": "stdout",
     "output_type": "stream",
     "text": [
      "22151    562.63438\n",
      "22152    557.33758\n",
      "22153    513.24974\n",
      "22154    578.52470\n",
      "22155    519.24754\n",
      "Name: MATH, dtype: float64\n"
     ]
    },
    {
     "data": {
      "text/plain": [
       "count    295416.000000\n",
       "mean        488.401237\n",
       "std          92.822579\n",
       "min          78.836260\n",
       "25%         421.802460\n",
       "50%         487.389000\n",
       "75%         554.066060\n",
       "max         848.348660\n",
       "Name: MATH, dtype: float64"
      ]
     },
     "execution_count": 59,
     "metadata": {},
     "output_type": "execute_result"
    }
   ],
   "source": [
    "print(pisa2012_copy['MATH'].head())\n",
    "pisa2012_copy['MATH'].describe()"
   ]
  },
  {
   "cell_type": "markdown",
   "metadata": {},
   "source": [
    "#### 7. Remove cases which have invalid international grades(e.g.`96`)"
   ]
  },
  {
   "cell_type": "markdown",
   "metadata": {},
   "source": [
    "##### Define"
   ]
  },
  {
   "cell_type": "code",
   "execution_count": null,
   "metadata": {},
   "outputs": [],
   "source": []
  },
  {
   "cell_type": "markdown",
   "metadata": {},
   "source": [
    "##### Code"
   ]
  },
  {
   "cell_type": "code",
   "execution_count": 60,
   "metadata": {},
   "outputs": [
    {
     "name": "stdout",
     "output_type": "stream",
     "text": [
      "10    170628\n",
      "9      86272\n",
      "11     21319\n",
      "8      13007\n",
      "12      2473\n",
      "7       1087\n",
      "96       627\n",
      "13         3\n",
      "Name: Grade, dtype: int64\n"
     ]
    }
   ],
   "source": [
    "## drop 96 and 13 grade\n",
    "print(pisa2012_copy.Grade.value_counts())\n",
    "\n",
    "pisa2012_copy = pisa2012_copy.query(\"Grade!=96 and Grade!=13\")"
   ]
  },
  {
   "cell_type": "markdown",
   "metadata": {},
   "source": [
    "##### Test"
   ]
  },
  {
   "cell_type": "code",
   "execution_count": 61,
   "metadata": {},
   "outputs": [
    {
     "data": {
      "text/plain": [
       "10    170628\n",
       "9      86272\n",
       "11     21319\n",
       "8      13007\n",
       "12      2473\n",
       "7       1087\n",
       "Name: Grade, dtype: int64"
      ]
     },
     "execution_count": 61,
     "metadata": {},
     "output_type": "execute_result"
    }
   ],
   "source": [
    "pisa2012_copy.Grade.value_counts()"
   ]
  },
  {
   "cell_type": "markdown",
   "metadata": {},
   "source": [
    "#### 8. select necessary columns"
   ]
  },
  {
   "cell_type": "markdown",
   "metadata": {},
   "source": [
    "##### Define"
   ]
  },
  {
   "cell_type": "code",
   "execution_count": null,
   "metadata": {},
   "outputs": [],
   "source": []
  },
  {
   "cell_type": "markdown",
   "metadata": {},
   "source": [
    "##### Code"
   ]
  },
  {
   "cell_type": "code",
   "execution_count": 62,
   "metadata": {},
   "outputs": [],
   "source": [
    "pisa2012_copy = pisa2012_copy[['CNT','SUBNATIO','OECD','NC','SCHOOLID','STIDSTD','Grade','Gender',\n",
    "             'interest','snorm','efficacy',\n",
    "             'anxiety','self_concept','ESCS','MATH']]"
   ]
  },
  {
   "cell_type": "markdown",
   "metadata": {},
   "source": [
    "##### Test"
   ]
  },
  {
   "cell_type": "code",
   "execution_count": 63,
   "metadata": {},
   "outputs": [
    {
     "name": "stdout",
     "output_type": "stream",
     "text": [
      "<class 'pandas.core.frame.DataFrame'>\n",
      "Int64Index: 294786 entries, 22151 to 480530\n",
      "Data columns (total 15 columns):\n",
      "CNT             294786 non-null object\n",
      "SUBNATIO        294786 non-null int64\n",
      "OECD            294786 non-null object\n",
      "NC              294786 non-null object\n",
      "SCHOOLID        294786 non-null int64\n",
      "STIDSTD         294786 non-null int64\n",
      "Grade           294786 non-null int64\n",
      "Gender          294786 non-null object\n",
      "interest        192859 non-null float64\n",
      "snorm           192923 non-null float64\n",
      "efficacy        192593 non-null float64\n",
      "anxiety         192038 non-null float64\n",
      "self_concept    192031 non-null float64\n",
      "ESCS            289724 non-null float64\n",
      "MATH            294786 non-null float64\n",
      "dtypes: float64(7), int64(4), object(4)\n",
      "memory usage: 36.0+ MB\n"
     ]
    }
   ],
   "source": [
    "pisa2012_copy.info()"
   ]
  },
  {
   "cell_type": "markdown",
   "metadata": {},
   "source": [
    "#### 9. Final:  Remove cases which have some missing values and store cleaned dataset"
   ]
  },
  {
   "cell_type": "markdown",
   "metadata": {},
   "source": [
    "##### Define"
   ]
  },
  {
   "cell_type": "code",
   "execution_count": null,
   "metadata": {},
   "outputs": [],
   "source": []
  },
  {
   "cell_type": "markdown",
   "metadata": {},
   "source": [
    "##### Code"
   ]
  },
  {
   "cell_type": "code",
   "execution_count": 64,
   "metadata": {},
   "outputs": [
    {
     "name": "stdout",
     "output_type": "stream",
     "text": [
      "CNT                  0\n",
      "SUBNATIO             0\n",
      "OECD                 0\n",
      "NC                   0\n",
      "SCHOOLID             0\n",
      "STIDSTD              0\n",
      "Grade                0\n",
      "Gender               0\n",
      "interest        101927\n",
      "snorm           101863\n",
      "efficacy        102193\n",
      "anxiety         102748\n",
      "self_concept    102755\n",
      "ESCS              5062\n",
      "MATH                 0\n",
      "dtype: int64\n"
     ]
    }
   ],
   "source": [
    "### Check the number of missing values by columns\n",
    "print(pisa2012_copy.isnull().sum(axis=0))"
   ]
  },
  {
   "cell_type": "code",
   "execution_count": 65,
   "metadata": {},
   "outputs": [],
   "source": [
    "pisa2012_copy = pisa2012_copy.dropna(axis=0)"
   ]
  },
  {
   "cell_type": "markdown",
   "metadata": {},
   "source": [
    "##### Test"
   ]
  },
  {
   "cell_type": "code",
   "execution_count": 66,
   "metadata": {},
   "outputs": [
    {
     "data": {
      "text/html": [
       "<div>\n",
       "<style scoped>\n",
       "    .dataframe tbody tr th:only-of-type {\n",
       "        vertical-align: middle;\n",
       "    }\n",
       "\n",
       "    .dataframe tbody tr th {\n",
       "        vertical-align: top;\n",
       "    }\n",
       "\n",
       "    .dataframe thead th {\n",
       "        text-align: right;\n",
       "    }\n",
       "</style>\n",
       "<table border=\"1\" class=\"dataframe\">\n",
       "  <thead>\n",
       "    <tr style=\"text-align: right;\">\n",
       "      <th></th>\n",
       "      <th>SUBNATIO</th>\n",
       "      <th>SCHOOLID</th>\n",
       "      <th>STIDSTD</th>\n",
       "      <th>Grade</th>\n",
       "      <th>interest</th>\n",
       "      <th>snorm</th>\n",
       "      <th>efficacy</th>\n",
       "      <th>anxiety</th>\n",
       "      <th>self_concept</th>\n",
       "      <th>ESCS</th>\n",
       "      <th>MATH</th>\n",
       "    </tr>\n",
       "  </thead>\n",
       "  <tbody>\n",
       "    <tr>\n",
       "      <th>count</th>\n",
       "      <td>9.458800e+04</td>\n",
       "      <td>94588.000000</td>\n",
       "      <td>94588.000000</td>\n",
       "      <td>94588.000000</td>\n",
       "      <td>94588.000000</td>\n",
       "      <td>94588.000000</td>\n",
       "      <td>94588.000000</td>\n",
       "      <td>94588.000000</td>\n",
       "      <td>94588.000000</td>\n",
       "      <td>94588.000000</td>\n",
       "      <td>94588.000000</td>\n",
       "    </tr>\n",
       "    <tr>\n",
       "      <th>mean</th>\n",
       "      <td>4.302058e+06</td>\n",
       "      <td>311.048283</td>\n",
       "      <td>7733.582061</td>\n",
       "      <td>9.704963</td>\n",
       "      <td>2.309268</td>\n",
       "      <td>2.693925</td>\n",
       "      <td>3.035810</td>\n",
       "      <td>2.476426</td>\n",
       "      <td>2.453283</td>\n",
       "      <td>-0.055560</td>\n",
       "      <td>491.752259</td>\n",
       "    </tr>\n",
       "    <tr>\n",
       "      <th>std</th>\n",
       "      <td>2.408036e+06</td>\n",
       "      <td>321.004111</td>\n",
       "      <td>7854.372704</td>\n",
       "      <td>0.713150</td>\n",
       "      <td>0.787461</td>\n",
       "      <td>0.469674</td>\n",
       "      <td>0.588663</td>\n",
       "      <td>0.665695</td>\n",
       "      <td>0.508496</td>\n",
       "      <td>1.051428</td>\n",
       "      <td>90.927979</td>\n",
       "    </tr>\n",
       "    <tr>\n",
       "      <th>min</th>\n",
       "      <td>3.600000e+05</td>\n",
       "      <td>1.000000</td>\n",
       "      <td>1.000000</td>\n",
       "      <td>7.000000</td>\n",
       "      <td>1.000000</td>\n",
       "      <td>1.000000</td>\n",
       "      <td>1.000000</td>\n",
       "      <td>1.000000</td>\n",
       "      <td>1.000000</td>\n",
       "      <td>-5.620000</td>\n",
       "      <td>158.833160</td>\n",
       "    </tr>\n",
       "    <tr>\n",
       "      <th>25%</th>\n",
       "      <td>2.460000e+06</td>\n",
       "      <td>84.000000</td>\n",
       "      <td>2185.000000</td>\n",
       "      <td>9.000000</td>\n",
       "      <td>1.750000</td>\n",
       "      <td>2.333333</td>\n",
       "      <td>2.625000</td>\n",
       "      <td>2.000000</td>\n",
       "      <td>2.200000</td>\n",
       "      <td>-0.750000</td>\n",
       "      <td>426.320295</td>\n",
       "    </tr>\n",
       "    <tr>\n",
       "      <th>50%</th>\n",
       "      <td>3.920000e+06</td>\n",
       "      <td>174.000000</td>\n",
       "      <td>4409.000000</td>\n",
       "      <td>10.000000</td>\n",
       "      <td>2.250000</td>\n",
       "      <td>2.666667</td>\n",
       "      <td>3.000000</td>\n",
       "      <td>2.400000</td>\n",
       "      <td>2.400000</td>\n",
       "      <td>0.010000</td>\n",
       "      <td>490.076330</td>\n",
       "    </tr>\n",
       "    <tr>\n",
       "      <th>75%</th>\n",
       "      <td>7.030000e+06</td>\n",
       "      <td>454.000000</td>\n",
       "      <td>11030.000000</td>\n",
       "      <td>10.000000</td>\n",
       "      <td>3.000000</td>\n",
       "      <td>3.000000</td>\n",
       "      <td>3.500000</td>\n",
       "      <td>3.000000</td>\n",
       "      <td>2.800000</td>\n",
       "      <td>0.770000</td>\n",
       "      <td>555.701820</td>\n",
       "    </tr>\n",
       "    <tr>\n",
       "      <th>max</th>\n",
       "      <td>8.400000e+06</td>\n",
       "      <td>1471.000000</td>\n",
       "      <td>33805.000000</td>\n",
       "      <td>12.000000</td>\n",
       "      <td>4.000000</td>\n",
       "      <td>4.000000</td>\n",
       "      <td>4.000000</td>\n",
       "      <td>4.000000</td>\n",
       "      <td>4.000000</td>\n",
       "      <td>3.270000</td>\n",
       "      <td>848.348660</td>\n",
       "    </tr>\n",
       "  </tbody>\n",
       "</table>\n",
       "</div>"
      ],
      "text/plain": [
       "           SUBNATIO      SCHOOLID       STIDSTD         Grade      interest  \\\n",
       "count  9.458800e+04  94588.000000  94588.000000  94588.000000  94588.000000   \n",
       "mean   4.302058e+06    311.048283   7733.582061      9.704963      2.309268   \n",
       "std    2.408036e+06    321.004111   7854.372704      0.713150      0.787461   \n",
       "min    3.600000e+05      1.000000      1.000000      7.000000      1.000000   \n",
       "25%    2.460000e+06     84.000000   2185.000000      9.000000      1.750000   \n",
       "50%    3.920000e+06    174.000000   4409.000000     10.000000      2.250000   \n",
       "75%    7.030000e+06    454.000000  11030.000000     10.000000      3.000000   \n",
       "max    8.400000e+06   1471.000000  33805.000000     12.000000      4.000000   \n",
       "\n",
       "              snorm      efficacy       anxiety  self_concept          ESCS  \\\n",
       "count  94588.000000  94588.000000  94588.000000  94588.000000  94588.000000   \n",
       "mean       2.693925      3.035810      2.476426      2.453283     -0.055560   \n",
       "std        0.469674      0.588663      0.665695      0.508496      1.051428   \n",
       "min        1.000000      1.000000      1.000000      1.000000     -5.620000   \n",
       "25%        2.333333      2.625000      2.000000      2.200000     -0.750000   \n",
       "50%        2.666667      3.000000      2.400000      2.400000      0.010000   \n",
       "75%        3.000000      3.500000      3.000000      2.800000      0.770000   \n",
       "max        4.000000      4.000000      4.000000      4.000000      3.270000   \n",
       "\n",
       "               MATH  \n",
       "count  94588.000000  \n",
       "mean     491.752259  \n",
       "std       90.927979  \n",
       "min      158.833160  \n",
       "25%      426.320295  \n",
       "50%      490.076330  \n",
       "75%      555.701820  \n",
       "max      848.348660  "
      ]
     },
     "execution_count": 66,
     "metadata": {},
     "output_type": "execute_result"
    }
   ],
   "source": [
    "pisa2012_copy.describe()"
   ]
  },
  {
   "cell_type": "markdown",
   "metadata": {},
   "source": [
    "##### Store"
   ]
  },
  {
   "cell_type": "code",
   "execution_count": 70,
   "metadata": {},
   "outputs": [],
   "source": [
    "pisa2012_copy.to_csv('pisa2012_clean.csv',index=False)"
   ]
  },
  {
   "cell_type": "markdown",
   "metadata": {},
   "source": [
    "## Exploratory analysis"
   ]
  },
  {
   "cell_type": "code",
   "execution_count": null,
   "metadata": {},
   "outputs": [],
   "source": []
  }
 ],
 "metadata": {
  "hide_input": false,
  "kernelspec": {
   "display_name": "Python 3",
   "language": "python",
   "name": "python3"
  },
  "language_info": {
   "codemirror_mode": {
    "name": "ipython",
    "version": 3
   },
   "file_extension": ".py",
   "mimetype": "text/x-python",
   "name": "python",
   "nbconvert_exporter": "python",
   "pygments_lexer": "ipython3",
   "version": "3.7.3"
  }
 },
 "nbformat": 4,
 "nbformat_minor": 2
}
